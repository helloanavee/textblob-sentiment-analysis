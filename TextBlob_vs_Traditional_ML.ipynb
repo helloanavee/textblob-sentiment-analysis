{
 "cells": [
  {
   "cell_type": "code",
   "execution_count": 1,
   "id": "b2246deb-5af5-4c48-8078-0492cc031b93",
   "metadata": {
    "execution": {
     "iopub.execute_input": "2023-12-09T05:15:22.810714Z",
     "iopub.status.busy": "2023-12-09T05:15:22.810362Z",
     "iopub.status.idle": "2023-12-09T05:15:22.827198Z",
     "shell.execute_reply": "2023-12-09T05:15:22.825683Z",
     "shell.execute_reply.started": "2023-12-09T05:15:22.810679Z"
    },
    "tags": []
   },
   "outputs": [
    {
     "data": {
      "text/html": [
       "<script src=\"require.js\"></script>\n"
      ],
      "text/plain": [
       "<IPython.core.display.HTML object>"
      ]
     },
     "metadata": {},
     "output_type": "display_data"
    }
   ],
   "source": [
    "%%HTML\n",
    "<script src=\"require.js\"></script>"
   ]
  },
  {
   "cell_type": "code",
   "execution_count": 2,
   "id": "552803a4-1fce-4353-846a-8d18815234c8",
   "metadata": {
    "execution": {
     "iopub.execute_input": "2023-12-09T05:15:22.830853Z",
     "iopub.status.busy": "2023-12-09T05:15:22.830508Z",
     "iopub.status.idle": "2023-12-09T05:15:22.839560Z",
     "shell.execute_reply": "2023-12-09T05:15:22.838375Z",
     "shell.execute_reply.started": "2023-12-09T05:15:22.830818Z"
    },
    "tags": []
   },
   "outputs": [
    {
     "data": {
      "text/html": [
       "\n",
       "<script src=\"https://cdnjs.cloudflare.com/ajax/libs/jquery/2.0.3/jquery.min.js \"></script><script>\n",
       "code_show=true; \n",
       "function code_toggle() {\n",
       "if (code_show){\n",
       "$('div.jp-CodeCell > div.jp-Cell-inputWrapper').hide();\n",
       "} else {\n",
       "$('div.jp-CodeCell > div.jp-Cell-inputWrapper').show();\n",
       "}\n",
       "code_show = !code_show\n",
       "} \n",
       "$( document ).ready(code_toggle);</script><form action=\"javascript:code_toggle()\"><input type=\"submit\" value=\"Click here to toggle on/off the raw code.\"></form>\n"
      ],
      "text/plain": [
       "<IPython.core.display.HTML object>"
      ]
     },
     "execution_count": 2,
     "metadata": {},
     "output_type": "execute_result"
    }
   ],
   "source": [
    "from IPython.display import display, HTML, clear_output\n",
    "HTML('''\n",
    "<script src=\"https://cdnjs.cloudflare.com/ajax/libs/jquery/2.0.3/jquery.min.js \"></script><script>\n",
    "code_show=true; \n",
    "function code_toggle() {\n",
    "if (code_show){\n",
    "$('div.jp-CodeCell > div.jp-Cell-inputWrapper').hide();\n",
    "} else {\n",
    "$('div.jp-CodeCell > div.jp-Cell-inputWrapper').show();\n",
    "}\n",
    "code_show = !code_show\n",
    "} \n",
    "$( document ).ready(code_toggle);</script><form action=\"javascript:code_toggle()\"><input type=\"submit\" value=\"Click here to toggle on/off the raw code.\"></form>\n",
    "''')"
   ]
  },
  {
   "cell_type": "markdown",
   "id": "ff905baa-2787-4169-a9af-c6c08c3f5f30",
   "metadata": {
    "execution": {
     "iopub.execute_input": "2023-12-08T10:42:05.879043Z",
     "iopub.status.busy": "2023-12-08T10:42:05.877629Z",
     "iopub.status.idle": "2023-12-08T10:42:05.889397Z",
     "shell.execute_reply": "2023-12-08T10:42:05.887003Z",
     "shell.execute_reply.started": "2023-12-08T10:42:05.878973Z"
    },
    "tags": []
   },
   "source": [
    "<img src='title_cover.png'/>"
   ]
  },
  {
   "cell_type": "markdown",
   "id": "a8f59d29-b2c6-4347-9a62-dfbc9f73d7e4",
   "metadata": {},
   "source": [
    "<h2 style='color:#35A1F4'>Problem</h2>"
   ]
  },
  {
   "cell_type": "markdown",
   "id": "c39754b8-8259-4245-8252-7bd6ef82ea13",
   "metadata": {},
   "source": [
    "Sentiment Analysis, often referred to as Opinion Mining, stands as a pertinent and impactful application within the realms of Machine Learning and Natural Language Processing. Its utility spans across a diverse array of applications, encompassing employee feedback assessments, e-commerce customer reviews analysis, and market research endeavors.\n",
    "\n",
    "Building on our foundational understanding of classification models in Machine Learning 1, today we embark on an exploration of the nuanced methodologies employed for sentiment classification. <b>We will delve into both traditional machine learning approaches and the utilization of TextBlob, a dedicated Natural Language Processing (NLP) library. Throughout this exploration, we will evaluate the merits and drawbacks of each technique, providing a comprehensive understanding of their respective strengths and limitations.</b>"
   ]
  },
  {
   "cell_type": "markdown",
   "id": "1b039ddb-52f6-4acf-9911-4edc0f47fee4",
   "metadata": {},
   "source": [
    "<h2 style='color:#35A1F4'>Highlights</h2>"
   ]
  },
  {
   "cell_type": "markdown",
   "id": "0c228bf4-0368-401d-9518-a5ed1dc9de39",
   "metadata": {},
   "source": [
    "1. To compare, data was preprocessed similarly, and Naive Bayes used for both TextBlob and Traditional ML.\n",
    "2. Both models surpass the Proportion Chance Criterion (0.41), showcasing high accuracy.\n",
    "3. Traditional ML (0.69 accuracy) slightly outperforms TextBlob (0.66 accuracy) and provides more descriptive features (words).\n",
    "4. TextBlob simplifies text classification with ease and quick implementation.\n",
    "5. Custom models offer greater flexibility, control, and visibility for text classification."
   ]
  },
  {
   "cell_type": "markdown",
   "id": "09d386c3-0df9-489e-82d1-ad658c7fd81c",
   "metadata": {},
   "source": [
    "<h2 style='color:#35A1F4'>Libraries and Functions</h2>"
   ]
  },
  {
   "cell_type": "markdown",
   "id": "4286a5cb-923a-497f-b82c-d53109599589",
   "metadata": {},
   "source": [
    "<h3 style='color:#8F76F9'>Import Library</h3>"
   ]
  },
  {
   "cell_type": "code",
   "execution_count": 39,
   "id": "577ac1c2-f2a6-44a3-ad0d-e0d2ed1323bf",
   "metadata": {
    "execution": {
     "iopub.execute_input": "2023-12-09T06:45:30.591487Z",
     "iopub.status.busy": "2023-12-09T06:45:30.590743Z",
     "iopub.status.idle": "2023-12-09T06:45:30.611173Z",
     "shell.execute_reply": "2023-12-09T06:45:30.609315Z",
     "shell.execute_reply.started": "2023-12-09T06:45:30.591422Z"
    },
    "tags": []
   },
   "outputs": [],
   "source": [
    "import numpy as np\n",
    "import pandas as pd\n",
    "import matplotlib.pyplot as plt\n",
    "import seaborn as sns\n",
    "import time\n",
    "import spacy\n",
    "import warnings\n",
    "\n",
    "from warnings import simplefilter\n",
    "\n",
    "from textblob import TextBlob\n",
    "from textblob.classifiers import NaiveBayesClassifier\n",
    "\n",
    "from imblearn.over_sampling import RandomOverSampler\n",
    "from imblearn.under_sampling import RandomUnderSampler\n",
    "\n",
    "from sklearn.exceptions import ConvergenceWarning\n",
    "from sklearn.feature_extraction.text import CountVectorizer\n",
    "from sklearn.feature_extraction.text import TfidfVectorizer\n",
    "from sklearn.decomposition import TruncatedSVD\n",
    "from sklearn.datasets import make_classification\n",
    "from sklearn.pipeline import Pipeline\n",
    "from sklearn.model_selection import GridSearchCV\n",
    "from sklearn.model_selection import train_test_split\n",
    "from sklearn.naive_bayes import MultinomialNB\n",
    "from sklearn.svm import LinearSVC, SVC\n",
    "from sklearn.linear_model import SGDClassifier\n",
    "from sklearn.neighbors import KNeighborsRegressor, KNeighborsClassifier\n",
    "from sklearn.linear_model import Lasso, Ridge, LogisticRegression\n",
    "from sklearn.ensemble import RandomForestRegressor, GradientBoostingRegressor, RandomForestClassifier, GradientBoostingClassifier\n",
    "from sklearn import metrics\n",
    "\n",
    "warnings.filterwarnings(\"ignore\", category=FutureWarning)\n",
    "warnings.filterwarnings(\"ignore\", category=RuntimeWarning)\n",
    "warnings.filterwarnings(\"ignore\", category=ConvergenceWarning)"
   ]
  },
  {
   "cell_type": "markdown",
   "id": "332fd631-8f72-45ef-9817-a24c9cb759ee",
   "metadata": {},
   "source": [
    "<h3 style='color:#8F76F9'>Functions</h3>"
   ]
  },
  {
   "cell_type": "markdown",
   "id": "98418e6e-59b1-49d8-a341-77cb60643be9",
   "metadata": {
    "execution": {
     "iopub.execute_input": "2023-12-08T16:10:30.867648Z",
     "iopub.status.busy": "2023-12-08T16:10:30.866907Z",
     "iopub.status.idle": "2023-12-08T16:10:30.882287Z",
     "shell.execute_reply": "2023-12-08T16:10:30.879678Z",
     "shell.execute_reply.started": "2023-12-08T16:10:30.867585Z"
    },
    "tags": []
   },
   "source": [
    "<p>The following functions were defined:</p>\n",
    "<ul>\n",
    "    <li><b>compute_pcc</b> for computing the Proportion Chance Criterion (PCC) and 1.25 * PCC from a dataframe</li>\n",
    "    <li><b>determine_sentiment</b> for getting the Sentiment (3 for positive, 2 for neutral, 1 for negative) from the Rating and Recommended IND columns.</li>\n",
    "    <li><b>lemmatize text</b> for turning text into their base form.</li>\n",
    "</ul>"
   ]
  },
  {
   "cell_type": "code",
   "execution_count": 4,
   "id": "0046c0bc-de68-4e4d-8f31-739dff29659d",
   "metadata": {
    "execution": {
     "iopub.execute_input": "2023-12-09T05:15:29.289205Z",
     "iopub.status.busy": "2023-12-09T05:15:29.288654Z",
     "iopub.status.idle": "2023-12-09T05:15:29.296306Z",
     "shell.execute_reply": "2023-12-09T05:15:29.295195Z",
     "shell.execute_reply.started": "2023-12-09T05:15:29.289175Z"
    },
    "tags": []
   },
   "outputs": [],
   "source": [
    "def compute_pcc(df):\n",
    "    \"\"\"\n",
    "    Compute the Proportion Chance Criterion (PCC) and 1.25 * PCC based on\n",
    "    grouped sentiment counts.\n",
    "\n",
    "    Parameters\n",
    "    ----------\n",
    "    df : pandas.DataFrame\n",
    "        DataFrame containing a 'Sentiment' column with categorical labels.\n",
    "\n",
    "    Returns\n",
    "    -------\n",
    "    None\n",
    "        The function prints the Proportion Chance Criterion (PCC) and 1.25*PCC.\n",
    "    \"\"\"\n",
    "    grouped_sentiment = df.groupby('Sentiment').size()\n",
    "    num = (grouped_sentiment/grouped_sentiment.sum())**2\n",
    "    ppc = 100*num.sum()\n",
    "    ppc_125 = ppc * 1.25\n",
    "    print(f'Proportion Chance Criterion: {ppc:.2f}')\n",
    "    print(f'1.25 * Proportion Chance Criterion: {ppc_125:.2f}')"
   ]
  },
  {
   "cell_type": "code",
   "execution_count": 5,
   "id": "0a7de7a9-cccb-4be4-a61f-463f2f300a6a",
   "metadata": {
    "execution": {
     "iopub.execute_input": "2023-12-09T05:15:29.297883Z",
     "iopub.status.busy": "2023-12-09T05:15:29.297589Z",
     "iopub.status.idle": "2023-12-09T05:15:29.312412Z",
     "shell.execute_reply": "2023-12-09T05:15:29.310829Z",
     "shell.execute_reply.started": "2023-12-09T05:15:29.297855Z"
    },
    "tags": []
   },
   "outputs": [],
   "source": [
    "def determine_sentiment(row):\n",
    "    \"\"\"\n",
    "    Determine sentiment based on rating and recommendation.\n",
    "\n",
    "    Parameters\n",
    "    ----------\n",
    "    row : pandas.Series\n",
    "        A pandas Series representing a row of a DataFrame with 'Rating' and 'Recommended IND' columns.\n",
    "\n",
    "    Returns\n",
    "    -------\n",
    "    int\n",
    "        An integer representing the sentiment:\n",
    "        - 3 for positive sentiment (Rating > 3 and Recommended IND == 1)\n",
    "        - 1 for negative sentiment (Rating < 3 and Recommended IND == 0)\n",
    "        - 2 for neutral sentiment (otherwise)\n",
    "    \"\"\"\n",
    "    if row['Rating'] > 3 and row['Recommended IND'] == 1:\n",
    "        return 3\n",
    "    elif row['Rating'] < 3 and row['Recommended IND'] == 0:\n",
    "        return 1\n",
    "    else:\n",
    "        return 2"
   ]
  },
  {
   "cell_type": "code",
   "execution_count": 6,
   "id": "dfa58194-84b3-4e61-b82c-8f47b86a0a00",
   "metadata": {
    "execution": {
     "iopub.execute_input": "2023-12-09T05:15:29.314466Z",
     "iopub.status.busy": "2023-12-09T05:15:29.313987Z",
     "iopub.status.idle": "2023-12-09T05:15:30.070150Z",
     "shell.execute_reply": "2023-12-09T05:15:30.069273Z",
     "shell.execute_reply.started": "2023-12-09T05:15:29.314427Z"
    },
    "tags": []
   },
   "outputs": [],
   "source": [
    "nlp = spacy.load(\"en_core_web_sm\")\n",
    "\n",
    "def lemmatize_text(text):\n",
    "    \"\"\"\n",
    "    Lemmatize the input text using spaCy.\n",
    "\n",
    "    Parameters\n",
    "    ----------\n",
    "    text : str\n",
    "        The input text to be lemmatized.\n",
    "\n",
    "    Returns\n",
    "    -------\n",
    "    str\n",
    "        The lemmatized text.\n",
    "    \"\"\"\n",
    "    return ' '.join([token.lemma_ for token in nlp(text)])"
   ]
  },
  {
   "cell_type": "markdown",
   "id": "e4f548a8-0448-4302-abae-fa5cdc7dbec3",
   "metadata": {},
   "source": [
    "<h2 style='color:#35A1F4'>Dataset</h2>"
   ]
  },
  {
   "cell_type": "markdown",
   "id": "b774f3d6-a25a-4bb1-a9d3-be7307725393",
   "metadata": {},
   "source": [
    "<h3 style='color:#8E77F8'>Data Source and Description</h3>"
   ]
  },
  {
   "cell_type": "markdown",
   "id": "6fb106c8-591a-4068-bf4d-cc6738b6f77d",
   "metadata": {},
   "source": [
    "<p>This data from <a href=\"https://www.kaggle.com/datasets/nicapotato/womens-ecommerce-clothing-reviews\">Kaggle</a> centers around customer feedback for a <i>Women's Clothing E-Commerce</i> company. References to the company in the review text and body have been replaced with the term \"retailer\" for privacy and anonymity.\n",
    "\n",
    "The data holds 23,486 reviews with 10 original features. Each row corresponds to a customer review and features include:\n",
    "    <ul>\n",
    "    <li>`Clothing ID`: Integer Categorical variable that refers to the specific piece being reviewed.</li>\n",
    "    <li>`Age`: Positive Integer variable of the reviewers age.</li>\n",
    "    <li>`Title`: String variable for the title of the review.</li>\n",
    "    <li>`Review Text`: String variable for the review body.</li>\n",
    "    <li>`Rating`: Positive Ordinal Integer variable for the product score granted by the customer from 1 Worst, to 5 Best.</li>\n",
    "    <li>`Recommended IND`: Binary variable stating where the customer recommends the product where 1 is recommended, 0 is not</li> recommended.\n",
    "    <li>`Positive Feedback Count`: Positive Integer documenting the number of other customers who found this review positive.</li>\n",
    "    <li>`Division Name`: Categorical name of the product high level division.</li>\n",
    "    <li>`Department Name`: Categorical name of the product department name.</li>\n",
    "    <li>`Class Name`: Categorical name of the product class name.</li>\n",
    "    </ul>\n",
    "\n"
   ]
  },
  {
   "cell_type": "markdown",
   "id": "485f2d5b-b381-4082-b7f6-a4eebe5cdf38",
   "metadata": {},
   "source": [
    "<b>A look into the original data gives us:</b>"
   ]
  },
  {
   "cell_type": "code",
   "execution_count": 7,
   "id": "aedeffd1-f4dc-46f6-a8a4-dd985ebf6b40",
   "metadata": {
    "execution": {
     "iopub.execute_input": "2023-12-09T05:15:30.073497Z",
     "iopub.status.busy": "2023-12-09T05:15:30.073241Z",
     "iopub.status.idle": "2023-12-09T05:15:30.229661Z",
     "shell.execute_reply": "2023-12-09T05:15:30.228896Z",
     "shell.execute_reply.started": "2023-12-09T05:15:30.073475Z"
    },
    "tags": []
   },
   "outputs": [
    {
     "data": {
      "text/html": [
       "<div>\n",
       "<style scoped>\n",
       "    .dataframe tbody tr th:only-of-type {\n",
       "        vertical-align: middle;\n",
       "    }\n",
       "\n",
       "    .dataframe tbody tr th {\n",
       "        vertical-align: top;\n",
       "    }\n",
       "\n",
       "    .dataframe thead th {\n",
       "        text-align: right;\n",
       "    }\n",
       "</style>\n",
       "<table border=\"1\" class=\"dataframe\">\n",
       "  <thead>\n",
       "    <tr style=\"text-align: right;\">\n",
       "      <th></th>\n",
       "      <th>Clothing ID</th>\n",
       "      <th>Age</th>\n",
       "      <th>Title</th>\n",
       "      <th>Review Text</th>\n",
       "      <th>Rating</th>\n",
       "      <th>Recommended IND</th>\n",
       "      <th>Positive Feedback Count</th>\n",
       "      <th>Division Name</th>\n",
       "      <th>Department Name</th>\n",
       "      <th>Class Name</th>\n",
       "    </tr>\n",
       "  </thead>\n",
       "  <tbody>\n",
       "    <tr>\n",
       "      <th>0</th>\n",
       "      <td>767</td>\n",
       "      <td>33</td>\n",
       "      <td>NaN</td>\n",
       "      <td>Absolutely wonderful - silky and sexy and comf...</td>\n",
       "      <td>4</td>\n",
       "      <td>1</td>\n",
       "      <td>0</td>\n",
       "      <td>Initmates</td>\n",
       "      <td>Intimate</td>\n",
       "      <td>Intimates</td>\n",
       "    </tr>\n",
       "    <tr>\n",
       "      <th>1</th>\n",
       "      <td>1080</td>\n",
       "      <td>34</td>\n",
       "      <td>NaN</td>\n",
       "      <td>Love this dress!  it's sooo pretty.  i happene...</td>\n",
       "      <td>5</td>\n",
       "      <td>1</td>\n",
       "      <td>4</td>\n",
       "      <td>General</td>\n",
       "      <td>Dresses</td>\n",
       "      <td>Dresses</td>\n",
       "    </tr>\n",
       "    <tr>\n",
       "      <th>2</th>\n",
       "      <td>1077</td>\n",
       "      <td>60</td>\n",
       "      <td>Some major design flaws</td>\n",
       "      <td>I had such high hopes for this dress and reall...</td>\n",
       "      <td>3</td>\n",
       "      <td>0</td>\n",
       "      <td>0</td>\n",
       "      <td>General</td>\n",
       "      <td>Dresses</td>\n",
       "      <td>Dresses</td>\n",
       "    </tr>\n",
       "  </tbody>\n",
       "</table>\n",
       "</div>"
      ],
      "text/plain": [
       "   Clothing ID  Age                    Title  \\\n",
       "0          767   33                      NaN   \n",
       "1         1080   34                      NaN   \n",
       "2         1077   60  Some major design flaws   \n",
       "\n",
       "                                         Review Text  Rating  Recommended IND  \\\n",
       "0  Absolutely wonderful - silky and sexy and comf...       4                1   \n",
       "1  Love this dress!  it's sooo pretty.  i happene...       5                1   \n",
       "2  I had such high hopes for this dress and reall...       3                0   \n",
       "\n",
       "   Positive Feedback Count Division Name Department Name Class Name  \n",
       "0                        0     Initmates        Intimate  Intimates  \n",
       "1                        4       General         Dresses    Dresses  \n",
       "2                        0       General         Dresses    Dresses  "
      ]
     },
     "execution_count": 7,
     "metadata": {},
     "output_type": "execute_result"
    }
   ],
   "source": [
    "raw_df = pd.read_csv('Womens Clothing E-Commerce Reviews.csv')\n",
    "raw_df.drop(raw_df.columns[0], axis=1, inplace = True)\n",
    "raw_df.head(3)"
   ]
  },
  {
   "cell_type": "markdown",
   "id": "1f19ab63-e4ff-440e-af4c-94244cae52e5",
   "metadata": {},
   "source": [
    "<center><i>Table 1. Original reviews dataset<i></center>"
   ]
  },
  {
   "cell_type": "markdown",
   "id": "d37ba07c-ad1e-4907-a181-db6950f9a2fe",
   "metadata": {
    "execution": {
     "iopub.execute_input": "2023-12-08T16:41:10.370168Z",
     "iopub.status.busy": "2023-12-08T16:41:10.369426Z",
     "iopub.status.idle": "2023-12-08T16:41:10.382802Z",
     "shell.execute_reply": "2023-12-08T16:41:10.380174Z",
     "shell.execute_reply.started": "2023-12-08T16:41:10.370105Z"
    }
   },
   "source": [
    "<h2 style='color:#35A1F4'>Methodology and Implementation</h2>\n",
    "\n",
    "In this study, we will use both traditional machine learning methods and TextBlob to classify customer reviews. To gain an apples-to-apples comparison of the results of the classification of using traditional method and that of TextBlob, we use similar preprocessing methods for both instances. Here is a summary of the methodology:"
   ]
  },
  {
   "cell_type": "markdown",
   "id": "691e19a8-152c-4819-923c-cc09fbe8d9f3",
   "metadata": {
    "execution": {
     "iopub.execute_input": "2023-12-08T17:20:59.535989Z",
     "iopub.status.busy": "2023-12-08T17:20:59.535272Z",
     "iopub.status.idle": "2023-12-08T17:20:59.547637Z",
     "shell.execute_reply": "2023-12-08T17:20:59.545140Z",
     "shell.execute_reply.started": "2023-12-08T17:20:59.535927Z"
    }
   },
   "source": [
    "<img src='method.png'/>"
   ]
  },
  {
   "cell_type": "markdown",
   "id": "bdf4495c-51f4-438d-9f95-54d25bab2649",
   "metadata": {},
   "source": [
    "<center><i>Table 2. Methodology and Pipeline<i></center>"
   ]
  },
  {
   "cell_type": "markdown",
   "id": "8a8f63da-fddf-43b5-ba46-f720e168b7cb",
   "metadata": {
    "execution": {
     "iopub.execute_input": "2023-12-08T17:53:19.748669Z",
     "iopub.status.busy": "2023-12-08T17:53:19.747898Z",
     "iopub.status.idle": "2023-12-08T17:53:19.762189Z",
     "shell.execute_reply": "2023-12-08T17:53:19.759132Z",
     "shell.execute_reply.started": "2023-12-08T17:53:19.748605Z"
    },
    "tags": []
   },
   "source": [
    "<h3 style='color:#8E77F8'>Add a new feature `Sentiment`</h3>\n",
    "\n",
    "<p>A new categorical feature \"Sentiment\" was added. This will be used as the target variable. Reviews with a rating of 4 to 5 and is recommended by the customer will be Positive reviews (encoded as 3). Reviews with a rating of 1 to 2 and is NOT recommended by the customer will be Negative reviews (encoded as 1). All other reviews will be Neutral (encoded as 2).</p>"
   ]
  },
  {
   "cell_type": "code",
   "execution_count": 8,
   "id": "2fcde9d2-6c50-4170-a282-0965e8dbd261",
   "metadata": {
    "execution": {
     "iopub.execute_input": "2023-12-09T05:15:30.230839Z",
     "iopub.status.busy": "2023-12-09T05:15:30.230572Z",
     "iopub.status.idle": "2023-12-09T05:15:30.449240Z",
     "shell.execute_reply": "2023-12-09T05:15:30.448397Z",
     "shell.execute_reply.started": "2023-12-09T05:15:30.230814Z"
    },
    "tags": []
   },
   "outputs": [
    {
     "data": {
      "text/html": [
       "<div>\n",
       "<style scoped>\n",
       "    .dataframe tbody tr th:only-of-type {\n",
       "        vertical-align: middle;\n",
       "    }\n",
       "\n",
       "    .dataframe tbody tr th {\n",
       "        vertical-align: top;\n",
       "    }\n",
       "\n",
       "    .dataframe thead th {\n",
       "        text-align: right;\n",
       "    }\n",
       "</style>\n",
       "<table border=\"1\" class=\"dataframe\">\n",
       "  <thead>\n",
       "    <tr style=\"text-align: right;\">\n",
       "      <th></th>\n",
       "      <th>Clothing ID</th>\n",
       "      <th>Age</th>\n",
       "      <th>Title</th>\n",
       "      <th>Review Text</th>\n",
       "      <th>Rating</th>\n",
       "      <th>Recommended IND</th>\n",
       "      <th>Positive Feedback Count</th>\n",
       "      <th>Division Name</th>\n",
       "      <th>Department Name</th>\n",
       "      <th>Class Name</th>\n",
       "      <th>Sentiment</th>\n",
       "    </tr>\n",
       "  </thead>\n",
       "  <tbody>\n",
       "    <tr>\n",
       "      <th>0</th>\n",
       "      <td>767</td>\n",
       "      <td>33</td>\n",
       "      <td>NaN</td>\n",
       "      <td>Absolutely wonderful - silky and sexy and comf...</td>\n",
       "      <td>4</td>\n",
       "      <td>1</td>\n",
       "      <td>0</td>\n",
       "      <td>Initmates</td>\n",
       "      <td>Intimate</td>\n",
       "      <td>Intimates</td>\n",
       "      <td>3</td>\n",
       "    </tr>\n",
       "    <tr>\n",
       "      <th>1</th>\n",
       "      <td>1080</td>\n",
       "      <td>34</td>\n",
       "      <td>NaN</td>\n",
       "      <td>Love this dress!  it's sooo pretty.  i happene...</td>\n",
       "      <td>5</td>\n",
       "      <td>1</td>\n",
       "      <td>4</td>\n",
       "      <td>General</td>\n",
       "      <td>Dresses</td>\n",
       "      <td>Dresses</td>\n",
       "      <td>3</td>\n",
       "    </tr>\n",
       "    <tr>\n",
       "      <th>2</th>\n",
       "      <td>1077</td>\n",
       "      <td>60</td>\n",
       "      <td>Some major design flaws</td>\n",
       "      <td>I had such high hopes for this dress and reall...</td>\n",
       "      <td>3</td>\n",
       "      <td>0</td>\n",
       "      <td>0</td>\n",
       "      <td>General</td>\n",
       "      <td>Dresses</td>\n",
       "      <td>Dresses</td>\n",
       "      <td>2</td>\n",
       "    </tr>\n",
       "  </tbody>\n",
       "</table>\n",
       "</div>"
      ],
      "text/plain": [
       "   Clothing ID  Age                    Title  \\\n",
       "0          767   33                      NaN   \n",
       "1         1080   34                      NaN   \n",
       "2         1077   60  Some major design flaws   \n",
       "\n",
       "                                         Review Text  Rating  Recommended IND  \\\n",
       "0  Absolutely wonderful - silky and sexy and comf...       4                1   \n",
       "1  Love this dress!  it's sooo pretty.  i happene...       5                1   \n",
       "2  I had such high hopes for this dress and reall...       3                0   \n",
       "\n",
       "   Positive Feedback Count Division Name Department Name Class Name  Sentiment  \n",
       "0                        0     Initmates        Intimate  Intimates          3  \n",
       "1                        4       General         Dresses    Dresses          3  \n",
       "2                        0       General         Dresses    Dresses          2  "
      ]
     },
     "execution_count": 8,
     "metadata": {},
     "output_type": "execute_result"
    }
   ],
   "source": [
    "raw_df['Sentiment'] = raw_df.apply(determine_sentiment, axis=1)\n",
    "raw_df.head(3)"
   ]
  },
  {
   "cell_type": "markdown",
   "id": "718108f7-84c3-4e6e-9f10-3d2ed08e7bfd",
   "metadata": {},
   "source": [
    "<center><i>Table 3. Reviews data with added feature \"Sentiment\"<i></center>"
   ]
  },
  {
   "cell_type": "markdown",
   "id": "19fc50fb-d6cf-41a0-8862-475bc1847d6b",
   "metadata": {
    "tags": []
   },
   "source": [
    "<h3 style='color:#8E77F8'>Remove null reviews</h3>\n",
    "\n",
    "For this study, the predictor variable that will be used is the `Review Text` feature, therefore, all rows with null `Review Text` will be removed."
   ]
  },
  {
   "cell_type": "code",
   "execution_count": 9,
   "id": "09252b59-8476-497a-8179-fc9a771b4d2b",
   "metadata": {
    "execution": {
     "iopub.execute_input": "2023-12-09T05:15:30.450475Z",
     "iopub.status.busy": "2023-12-09T05:15:30.450211Z",
     "iopub.status.idle": "2023-12-09T05:15:30.465515Z",
     "shell.execute_reply": "2023-12-09T05:15:30.464688Z",
     "shell.execute_reply.started": "2023-12-09T05:15:30.450449Z"
    },
    "tags": []
   },
   "outputs": [
    {
     "data": {
      "text/plain": [
       "Clothing ID                   0\n",
       "Age                           0\n",
       "Title                      3810\n",
       "Review Text                 845\n",
       "Rating                        0\n",
       "Recommended IND               0\n",
       "Positive Feedback Count       0\n",
       "Division Name                14\n",
       "Department Name              14\n",
       "Class Name                   14\n",
       "Sentiment                     0\n",
       "dtype: int64"
      ]
     },
     "execution_count": 9,
     "metadata": {},
     "output_type": "execute_result"
    }
   ],
   "source": [
    "raw_df.isnull().sum()"
   ]
  },
  {
   "cell_type": "code",
   "execution_count": 10,
   "id": "7bc65cce-83fd-4ef6-9fd2-ebbbc170abb4",
   "metadata": {
    "execution": {
     "iopub.execute_input": "2023-12-09T05:15:30.466921Z",
     "iopub.status.busy": "2023-12-09T05:15:30.466608Z",
     "iopub.status.idle": "2023-12-09T05:15:30.481370Z",
     "shell.execute_reply": "2023-12-09T05:15:30.479850Z",
     "shell.execute_reply.started": "2023-12-09T05:15:30.466892Z"
    },
    "tags": []
   },
   "outputs": [],
   "source": [
    "raw_df = raw_df.dropna(subset=['Review Text'])"
   ]
  },
  {
   "cell_type": "code",
   "execution_count": 11,
   "id": "64b6827f-1a21-43b4-a38e-41ebc87d5e97",
   "metadata": {
    "execution": {
     "iopub.execute_input": "2023-12-09T05:15:30.482804Z",
     "iopub.status.busy": "2023-12-09T05:15:30.482469Z",
     "iopub.status.idle": "2023-12-09T05:15:30.498965Z",
     "shell.execute_reply": "2023-12-09T05:15:30.498204Z",
     "shell.execute_reply.started": "2023-12-09T05:15:30.482773Z"
    },
    "tags": []
   },
   "outputs": [
    {
     "data": {
      "text/plain": [
       "Clothing ID                   0\n",
       "Age                           0\n",
       "Title                      2966\n",
       "Review Text                   0\n",
       "Rating                        0\n",
       "Recommended IND               0\n",
       "Positive Feedback Count       0\n",
       "Division Name                13\n",
       "Department Name              13\n",
       "Class Name                   13\n",
       "Sentiment                     0\n",
       "dtype: int64"
      ]
     },
     "execution_count": 11,
     "metadata": {},
     "output_type": "execute_result"
    }
   ],
   "source": [
    "raw_df.isnull().sum()"
   ]
  },
  {
   "cell_type": "markdown",
   "id": "907f2f0e-522d-4129-8773-89479bed584f",
   "metadata": {},
   "source": [
    "<h3 style='color:#8E77F8'>Data Exploration</h3>"
   ]
  },
  {
   "cell_type": "markdown",
   "id": "bcdf702c-40b8-4f7b-bfb5-9583a167bb26",
   "metadata": {},
   "source": [
    "The data was explored to see the any trends from the reviews dataset."
   ]
  },
  {
   "cell_type": "code",
   "execution_count": 12,
   "id": "39a284c0-ae88-40b7-b9cc-6a6e13471420",
   "metadata": {
    "execution": {
     "iopub.execute_input": "2023-12-09T05:15:30.500285Z",
     "iopub.status.busy": "2023-12-09T05:15:30.500042Z",
     "iopub.status.idle": "2023-12-09T05:15:57.618279Z",
     "shell.execute_reply": "2023-12-09T05:15:57.617330Z",
     "shell.execute_reply.started": "2023-12-09T05:15:30.500263Z"
    },
    "tags": []
   },
   "outputs": [
    {
     "data": {
      "text/plain": [
       "<seaborn.axisgrid.PairGrid at 0x7f8d92149a80>"
      ]
     },
     "execution_count": 12,
     "metadata": {},
     "output_type": "execute_result"
    },
    {
     "data": {
      "image/png": "[encoded data removed]",
      "text/plain": [
       "<Figure size 1082.74x1000 with 20 Axes>"
      ]
     },
     "metadata": {},
     "output_type": "display_data"
    }
   ],
   "source": [
    "df_onlynum = raw_df[['Age', 'Rating', 'Recommended IND', 'Positive Feedback Count', 'Sentiment']]\n",
    "sentiment_colors = {3:'orange', 1:'black', 2:'lightgray'}\n",
    "sns.pairplot(df_onlynum, hue='Sentiment', palette=sentiment_colors, diag_kind='kde')"
   ]
  },
  {
   "cell_type": "markdown",
   "id": "16cd39f0-480d-4e66-bea6-fc5fcf7e356c",
   "metadata": {},
   "source": [
    "<center><i>Fig. 1. Pairplot of numerical variables from the Reviews<i></center>"
   ]
  },
  {
   "cell_type": "code",
   "execution_count": 13,
   "id": "c1de67f4-19c3-4545-b6af-a9eb496fa268",
   "metadata": {
    "execution": {
     "iopub.execute_input": "2023-12-09T05:15:57.620202Z",
     "iopub.status.busy": "2023-12-09T05:15:57.619810Z",
     "iopub.status.idle": "2023-12-09T05:15:58.825936Z",
     "shell.execute_reply": "2023-12-09T05:15:58.825109Z",
     "shell.execute_reply.started": "2023-12-09T05:15:57.620174Z"
    },
    "tags": []
   },
   "outputs": [
    {
     "data": {
      "image/png": "[encoded data removed]",
      "text/plain": [
       "<Figure size 1500x500 with 6 Axes>"
      ]
     },
     "metadata": {},
     "output_type": "display_data"
    }
   ],
   "source": [
    "departments = raw_df['Department Name'].unique()\n",
    "fig, axes = plt.subplots(nrows=1, ncols=len(departments)-1, figsize=(15, 5))\n",
    "\n",
    "for i, department in enumerate(departments):\n",
    "    department_df = raw_df[raw_df['Department Name'] == department]\n",
    "    if not department_df['Sentiment'].empty:\n",
    "        sns.countplot(x='Sentiment', data=department_df, palette=sentiment_colors, ax=axes[i])\n",
    "        axes[i].set_title(f'{department}')\n",
    "        axes[i].set_xticklabels(axes[i].get_xticklabels(), rotation=45)  # Rotate x-axis labels\n",
    "        sns.despine(ax=axes[i])\n",
    "\n",
    "plt.tight_layout()\n",
    "plt.show()"
   ]
  },
  {
   "cell_type": "markdown",
   "id": "3008eadb-a6c9-4f2c-9090-f507f8cec473",
   "metadata": {},
   "source": [
    "<center><i>Fig. 2. Comparitive bar graphs of the sentiment counts per Depertment<i></center>"
   ]
  },
  {
   "cell_type": "code",
   "execution_count": 14,
   "id": "3e3348d0-9608-46f9-9d50-6c48ad92c7b0",
   "metadata": {
    "execution": {
     "iopub.execute_input": "2023-12-09T05:15:58.827180Z",
     "iopub.status.busy": "2023-12-09T05:15:58.826921Z",
     "iopub.status.idle": "2023-12-09T05:15:59.611690Z",
     "shell.execute_reply": "2023-12-09T05:15:59.610916Z",
     "shell.execute_reply.started": "2023-12-09T05:15:58.827156Z"
    },
    "tags": []
   },
   "outputs": [
    {
     "data": {
      "image/png": "[encoded data removed]",
      "text/plain": [
       "<Figure size 1500x500 with 6 Axes>"
      ]
     },
     "metadata": {},
     "output_type": "display_data"
    }
   ],
   "source": [
    "fig, axes = plt.subplots(nrows=1, ncols=len(departments)-1, figsize=(15, 5))\n",
    "max_count = raw_df.groupby('Sentiment').size().max()\n",
    "\n",
    "for i, department in enumerate(departments):\n",
    "    department_df = raw_df[raw_df['Department Name'] == department]\n",
    "    if not department_df['Sentiment'].empty:\n",
    "        sns.countplot(x='Sentiment', data=department_df, palette=sentiment_colors, ax=axes[i])\n",
    "        axes[i].set_title(f'{department}')\n",
    "        axes[i].set_xticklabels(axes[i].get_xticklabels(), rotation=45)  # Rotate x-axis labels\n",
    "        axes[i].set_ylim(0, 8000)  # Set the y-axis limit\n",
    "        sns.despine(ax=axes[i])\n",
    "\n",
    "plt.tight_layout()\n",
    "plt.show()"
   ]
  },
  {
   "cell_type": "markdown",
   "id": "3fc14788-6cc8-4b51-a895-a6711c2a8ffa",
   "metadata": {},
   "source": [
    "<center><i>Fig. 3. Comparitive bar graphs of the sentiment counts per Depertment, with the same scale<i></center>"
   ]
  },
  {
   "cell_type": "code",
   "execution_count": 15,
   "id": "76491c61-20e4-4b6b-b582-9b7c5fd9d1df",
   "metadata": {
    "execution": {
     "iopub.execute_input": "2023-12-09T05:15:59.612896Z",
     "iopub.status.busy": "2023-12-09T05:15:59.612637Z",
     "iopub.status.idle": "2023-12-09T05:16:00.036935Z",
     "shell.execute_reply": "2023-12-09T05:16:00.036102Z",
     "shell.execute_reply.started": "2023-12-09T05:15:59.612873Z"
    },
    "tags": []
   },
   "outputs": [
    {
     "data": {
      "image/png": "[encoded data removed]",
      "text/plain": [
       "<Figure size 1500x500 with 3 Axes>"
      ]
     },
     "metadata": {},
     "output_type": "display_data"
    }
   ],
   "source": [
    "divisions = raw_df['Division Name'].unique()\n",
    "fig, axes = plt.subplots(nrows=1, ncols=len(divisions)-1, figsize=(15, 5))\n",
    "\n",
    "for i, division in enumerate(divisions):\n",
    "    department_df = raw_df[raw_df['Division Name'] == division]\n",
    "    if not department_df['Sentiment'].empty:\n",
    "        sns.countplot(x='Sentiment', data=department_df, palette=sentiment_colors, ax=axes[i])\n",
    "        axes[i].set_title(f'{division}')\n",
    "        axes[i].set_xticklabels(axes[i].get_xticklabels(), rotation=45)  # Rotate x-axis labels\n",
    "        sns.despine(ax=axes[i])\n",
    "\n",
    "plt.tight_layout()\n",
    "plt.show()"
   ]
  },
  {
   "cell_type": "markdown",
   "id": "bb01f927-2b23-424e-a1e3-65b5cdd8bf54",
   "metadata": {},
   "source": [
    "<center><i>Fig. 4. Comparitive bar graphs of the sentiment counts per Division<i></center>"
   ]
  },
  {
   "cell_type": "code",
   "execution_count": 16,
   "id": "4316581a-6b14-40eb-b246-a48563d96140",
   "metadata": {
    "execution": {
     "iopub.execute_input": "2023-12-09T05:16:00.038234Z",
     "iopub.status.busy": "2023-12-09T05:16:00.037975Z",
     "iopub.status.idle": "2023-12-09T05:16:00.430416Z",
     "shell.execute_reply": "2023-12-09T05:16:00.429601Z",
     "shell.execute_reply.started": "2023-12-09T05:16:00.038210Z"
    },
    "tags": []
   },
   "outputs": [
    {
     "data": {
      "image/png": "[encoded data removed]",
      "text/plain": [
       "<Figure size 1500x500 with 3 Axes>"
      ]
     },
     "metadata": {},
     "output_type": "display_data"
    }
   ],
   "source": [
    "divisions = raw_df['Division Name'].unique()\n",
    "fig, axes = plt.subplots(nrows=1, ncols=len(divisions)-1, figsize=(15, 5))\n",
    "\n",
    "for i, division in enumerate(divisions):\n",
    "    department_df = raw_df[raw_df['Division Name'] == division]\n",
    "    if not department_df['Sentiment'].empty:\n",
    "        sns.countplot(x='Sentiment', data=department_df, palette=sentiment_colors, ax=axes[i])\n",
    "        axes[i].set_title(f'{division}')\n",
    "        axes[i].set_xticklabels(axes[i].get_xticklabels(), rotation=45)  # Rotate x-axis labels\n",
    "        axes[i].set_ylim(0, 11000)\n",
    "        sns.despine(ax=axes[i])\n",
    "\n",
    "plt.tight_layout()\n",
    "plt.show()"
   ]
  },
  {
   "cell_type": "markdown",
   "id": "0f85cdae-11c5-4f1b-b435-df01a845f6e0",
   "metadata": {},
   "source": [
    "<center><i>Fig. 5. Comparitive bar graphs of the sentiment counts per Division, with the same scale<i></center>"
   ]
  },
  {
   "cell_type": "markdown",
   "id": "5ffa0f59-b548-4332-aaa1-fb6a36321a65",
   "metadata": {},
   "source": [
    "<h4 style='color:#3AB85C'>Data Exploration Discussion</h3>"
   ]
  },
  {
   "cell_type": "markdown",
   "id": "b31f0592-07ab-4c2f-9145-8cfe4bcb4069",
   "metadata": {},
   "source": [
    "From the graphs above, we see that different reviews (positive, negative, neutral) were given by all customers regardless of age. We also see a comparitively high number of positive reviews, compared to neutral and negative reviews. This is the case for all Departments, and even for all Divisions. The top 3 departments are the Tops, Dresses, and Bottoms, in order, giving them more reviews than other departments."
   ]
  },
  {
   "cell_type": "markdown",
   "id": "8a4af99f-5374-4dcf-8423-bcb609b3aaf5",
   "metadata": {
    "tags": []
   },
   "source": [
    "<h3 style='color:#8E77F8'>Split the dataset</h3>\n",
    "\n",
    "The dataset was split into the train-validation (80%) and test (20%) sets."
   ]
  },
  {
   "cell_type": "markdown",
   "id": "8d6440d9-bb7e-493e-b36f-0f958d34dbc4",
   "metadata": {
    "execution": {
     "iopub.execute_input": "2023-12-08T19:58:45.621600Z",
     "iopub.status.busy": "2023-12-08T19:58:45.619824Z",
     "iopub.status.idle": "2023-12-08T19:58:45.632072Z",
     "shell.execute_reply": "2023-12-08T19:58:45.629802Z",
     "shell.execute_reply.started": "2023-12-08T19:58:45.621472Z"
    },
    "tags": []
   },
   "source": [
    "<h4 style='color:#3AB85C'>Use only `Review Text` and `Sentiment` features.</h3>"
   ]
  },
  {
   "cell_type": "code",
   "execution_count": 40,
   "id": "8d45b1f4-404e-4009-9b7e-e9649a2c03ea",
   "metadata": {
    "execution": {
     "iopub.execute_input": "2023-12-09T07:57:49.835780Z",
     "iopub.status.busy": "2023-12-09T07:57:49.834559Z",
     "iopub.status.idle": "2023-12-09T07:57:49.858382Z",
     "shell.execute_reply": "2023-12-09T07:57:49.855847Z",
     "shell.execute_reply.started": "2023-12-09T07:57:49.835679Z"
    },
    "tags": []
   },
   "outputs": [
    {
     "name": "stdout",
     "output_type": "stream",
     "text": [
      "Dataframe of reviews with only Text and Sentiment columns has (22641, 2) shape\n"
     ]
    }
   ],
   "source": [
    "senti_df = raw_df[['Review Text', 'Sentiment']]\n",
    "print(f'Dataframe of reviews with only Text and Sentiment columns has {senti_df.shape} shape')"
   ]
  },
  {
   "cell_type": "markdown",
   "id": "73541ee0-79a8-4d08-94ec-d27589dd5eb7",
   "metadata": {},
   "source": [
    "<h4 style='color:#3AB85C'>Split to 20% test set</h4>"
   ]
  },
  {
   "cell_type": "code",
   "execution_count": 18,
   "id": "68c940bc-2e5b-4ceb-9d4c-27b955f7ea45",
   "metadata": {
    "execution": {
     "iopub.execute_input": "2023-12-09T05:16:00.441251Z",
     "iopub.status.busy": "2023-12-09T05:16:00.440975Z",
     "iopub.status.idle": "2023-12-09T05:16:00.462272Z",
     "shell.execute_reply": "2023-12-09T05:16:00.461442Z",
     "shell.execute_reply.started": "2023-12-09T05:16:00.441226Z"
    },
    "tags": []
   },
   "outputs": [
    {
     "name": "stdout",
     "output_type": "stream",
     "text": [
      "Training set contains: 18112 rows\n",
      "Test set contains: 4529 rows\n"
     ]
    }
   ],
   "source": [
    "X = senti_df.drop('Sentiment', axis=1)\n",
    "y = senti_df['Sentiment']\n",
    "\n",
    "X_train, X_test, y_train, y_test = train_test_split(X, y, test_size=0.2,\n",
    "                                                    random_state=42)\n",
    "\n",
    "print(f'Training set contains: {len(X_train)} rows')\n",
    "print(f'Test set contains: {len(X_test)} rows')"
   ]
  },
  {
   "cell_type": "markdown",
   "id": "c3cc829b-4511-4b78-8d6b-1c1b70e9020e",
   "metadata": {},
   "source": [
    "<h3 style='color:#8E77F8'>Lemmatize the reviews</h3>\n",
    "\n",
    "To optimize the performance of the custom trained model, the train `Review Text` was lemmatized, turning words into their base form."
   ]
  },
  {
   "cell_type": "code",
   "execution_count": 19,
   "id": "2b3c2f8b-fdfd-45e0-8929-1cbc19ff3ecc",
   "metadata": {
    "execution": {
     "iopub.execute_input": "2023-12-09T05:16:00.463576Z",
     "iopub.status.busy": "2023-12-09T05:16:00.463311Z",
     "iopub.status.idle": "2023-12-09T05:20:40.967165Z",
     "shell.execute_reply": "2023-12-09T05:20:40.965306Z",
     "shell.execute_reply.started": "2023-12-09T05:16:00.463551Z"
    },
    "tags": []
   },
   "outputs": [],
   "source": [
    "X_train['Review Text'] = X_train['Review Text'].apply(lemmatize_text)"
   ]
  },
  {
   "cell_type": "markdown",
   "id": "2ae1f754-9b0b-4b6f-b79b-fc3fcd514232",
   "metadata": {},
   "source": [
    "<h3 style='color:#8E77F8'>Undersample</h3>\n",
    "\n",
    "The training data was imbalanced with a majority of 76% positive reviews. To remove unintentional bias from the model, the training data was resampled using the Random Undersampler from Imblearn."
   ]
  },
  {
   "cell_type": "markdown",
   "id": "0ff79b90-309b-480f-927d-58aa7a10826f",
   "metadata": {},
   "source": [
    "<h4 style='color:#3AB85C'>Sentiment Distribution</h4>"
   ]
  },
  {
   "cell_type": "code",
   "execution_count": 20,
   "id": "91c9e079-6cec-4edb-b623-52c702a40507",
   "metadata": {
    "execution": {
     "iopub.execute_input": "2023-12-09T05:20:40.969484Z",
     "iopub.status.busy": "2023-12-09T05:20:40.969198Z",
     "iopub.status.idle": "2023-12-09T05:20:40.985280Z",
     "shell.execute_reply": "2023-12-09T05:20:40.984573Z",
     "shell.execute_reply.started": "2023-12-09T05:20:40.969457Z"
    },
    "tags": []
   },
   "outputs": [
    {
     "data": {
      "text/html": [
       "<div>\n",
       "<style scoped>\n",
       "    .dataframe tbody tr th:only-of-type {\n",
       "        vertical-align: middle;\n",
       "    }\n",
       "\n",
       "    .dataframe tbody tr th {\n",
       "        vertical-align: top;\n",
       "    }\n",
       "\n",
       "    .dataframe thead th {\n",
       "        text-align: right;\n",
       "    }\n",
       "</style>\n",
       "<table border=\"1\" class=\"dataframe\">\n",
       "  <thead>\n",
       "    <tr style=\"text-align: right;\">\n",
       "      <th></th>\n",
       "      <th>Sentiment</th>\n",
       "      <th>Count</th>\n",
       "      <th>Percentage</th>\n",
       "    </tr>\n",
       "  </thead>\n",
       "  <tbody>\n",
       "    <tr>\n",
       "      <th>0</th>\n",
       "      <td>3</td>\n",
       "      <td>17261</td>\n",
       "      <td>76.24</td>\n",
       "    </tr>\n",
       "    <tr>\n",
       "      <th>1</th>\n",
       "      <td>2</td>\n",
       "      <td>3119</td>\n",
       "      <td>13.78</td>\n",
       "    </tr>\n",
       "    <tr>\n",
       "      <th>2</th>\n",
       "      <td>1</td>\n",
       "      <td>2261</td>\n",
       "      <td>9.99</td>\n",
       "    </tr>\n",
       "  </tbody>\n",
       "</table>\n",
       "</div>"
      ],
      "text/plain": [
       "   Sentiment  Count  Percentage\n",
       "0          3  17261       76.24\n",
       "1          2   3119       13.78\n",
       "2          1   2261        9.99"
      ]
     },
     "execution_count": 20,
     "metadata": {},
     "output_type": "execute_result"
    }
   ],
   "source": [
    "senti_counts = senti_df['Sentiment'].value_counts()\n",
    "total_senti = len(senti_df['Sentiment'])\n",
    "senti_100 = senti_counts / total_senti * 100\n",
    "\n",
    "senti_ct = pd.DataFrame({\n",
    "    'Sentiment': senti_counts.index,\n",
    "    'Count': senti_counts.values,\n",
    "    'Percentage': senti_100.values.round(2)\n",
    "})\n",
    "\n",
    "senti_ct"
   ]
  },
  {
   "cell_type": "markdown",
   "id": "1ee46d99-0c4f-4ef4-8c05-e1e417a786df",
   "metadata": {},
   "source": [
    "<center><i>Table 4. Original distribution of sentiments<i></center>"
   ]
  },
  {
   "cell_type": "code",
   "execution_count": 21,
   "id": "17b58b6a-e592-462f-b203-847e06374285",
   "metadata": {
    "execution": {
     "iopub.execute_input": "2023-12-09T05:20:40.986429Z",
     "iopub.status.busy": "2023-12-09T05:20:40.986197Z",
     "iopub.status.idle": "2023-12-09T05:20:41.186075Z",
     "shell.execute_reply": "2023-12-09T05:20:41.185398Z",
     "shell.execute_reply.started": "2023-12-09T05:20:40.986407Z"
    },
    "tags": []
   },
   "outputs": [
    {
     "data": {
      "image/png": "[encoded data removed]",
      "text/plain": [
       "<Figure size 640x480 with 1 Axes>"
      ]
     },
     "metadata": {},
     "output_type": "display_data"
    }
   ],
   "source": [
    "ax = senti_counts.plot(kind='barh', color=['orange', 'lightgrey', 'black'])\n",
    "\n",
    "for index, value in enumerate(senti_counts):\n",
    "    ax.text(value, index, str(value))\n",
    "\n",
    "plt.title('Sentiment Distribution')\n",
    "plt.xlabel('Count')\n",
    "plt.ylabel('Sentiment')\n",
    "plt.show()"
   ]
  },
  {
   "cell_type": "markdown",
   "id": "a69fb952-8468-41e0-93cc-f73b0d9d5a06",
   "metadata": {},
   "source": [
    "<center><i>Fig. 6. Sentiment distribution bar graph<i></center>"
   ]
  },
  {
   "cell_type": "markdown",
   "id": "31b5eafe-67a5-4a97-8458-641c90d97a43",
   "metadata": {},
   "source": [
    "<h4 style='color:#3AB85C'>Random Undersampling</h4>\n",
    "\n",
    "For computational efficiency, random undersampling was utilized, equalizing the distribution of positive, neutral and negative reviews."
   ]
  },
  {
   "cell_type": "code",
   "execution_count": 22,
   "id": "6e5b0e66-e00d-4c01-8c38-e57047dba9ba",
   "metadata": {
    "execution": {
     "iopub.execute_input": "2023-12-09T05:20:41.191499Z",
     "iopub.status.busy": "2023-12-09T05:20:41.191259Z",
     "iopub.status.idle": "2023-12-09T05:20:41.220025Z",
     "shell.execute_reply": "2023-12-09T05:20:41.218836Z",
     "shell.execute_reply.started": "2023-12-09T05:20:41.191479Z"
    },
    "tags": []
   },
   "outputs": [
    {
     "name": "stdout",
     "output_type": "stream",
     "text": [
      "Before Undersampling:\n",
      "Sentiment\n",
      "3    13806\n",
      "2     2474\n",
      "1     1832\n",
      "Name: count, dtype: int64 \n",
      "\n",
      "Proportion Chance Criterion: 61.02\n",
      "1.25 * Proportion Chance Criterion: 76.27\n",
      "--------------------\n",
      "\n",
      "After Undersampling:\n",
      "Sentiment\n",
      "1    1832\n",
      "2    1832\n",
      "3    1832\n",
      "Name: count, dtype: int64 \n",
      "\n",
      "Proportion Chance Criterion: 33.33\n",
      "1.25 * Proportion Chance Criterion: 41.67\n"
     ]
    }
   ],
   "source": [
    "undersampler = RandomUnderSampler(random_state=42)\n",
    "X_resampled, y_resampled = undersampler.fit_resample(X_train, y_train)\n",
    "\n",
    "class_counts_before = pd.Series(y_train).value_counts()\n",
    "class_counts_after = pd.Series(y_resampled).value_counts()\n",
    "\n",
    "print(\"Before Undersampling:\")\n",
    "print(class_counts_before, '\\n')\n",
    "compute_pcc(senti_df)\n",
    "print('-'*20)\n",
    "print(\"\\nAfter Undersampling:\")\n",
    "print(class_counts_after, '\\n')\n",
    "compute_pcc(y_resampled.to_frame())"
   ]
  },
  {
   "cell_type": "markdown",
   "id": "44017022-cd00-47cb-ba7c-66b78f35cf12",
   "metadata": {},
   "source": [
    "<h3 style='color:#8E77F8'>Count Vectorizer</h3>\n",
    "\n",
    "The text in the `Review Text` was vectorized to enable processing. English stop words were used to remove common words. Only words considered were those in atleast 5 documents, and at most at 80% of the documents to remove the \"noise\" (words) from the data. Only words considered were alphabetic characters with atleast 2 letters."
   ]
  },
  {
   "cell_type": "code",
   "execution_count": 24,
   "id": "e4444ab2-33ba-4627-9f53-7c59fd4a0529",
   "metadata": {
    "execution": {
     "iopub.execute_input": "2023-12-09T05:21:05.110206Z",
     "iopub.status.busy": "2023-12-09T05:21:05.108093Z",
     "iopub.status.idle": "2023-12-09T05:21:05.534570Z",
     "shell.execute_reply": "2023-12-09T05:21:05.533797Z",
     "shell.execute_reply.started": "2023-12-09T05:21:05.110109Z"
    },
    "tags": []
   },
   "outputs": [
    {
     "name": "stdout",
     "output_type": "stream",
     "text": [
      "Number of features (words): 1810\n"
     ]
    }
   ],
   "source": [
    "countvec = CountVectorizer(\n",
    "    stop_words='english',\n",
    "    token_pattern=r'\\b[a-z]{2,}\\b',\n",
    "    lowercase=True,\n",
    "    min_df=5,\n",
    "    max_df=.8\n",
    ")\n",
    "\n",
    "X_resampled_countvec = countvec.fit_transform(X_resampled['Review Text'])\n",
    "X_test_countvec = countvec.transform(X_test['Review Text'])\n",
    "\n",
    "feature_names = countvec.get_feature_names_out()\n",
    "print(f'Number of features (words): {len(feature_names)}')"
   ]
  },
  {
   "cell_type": "markdown",
   "id": "b2eaf857-d492-4444-bfc9-dc5da6d17513",
   "metadata": {},
   "source": [
    "<h3 style='color:#8E77F8'>Grid Search</h3>\n",
    "\n",
    "GridSearch was used to find the best model and best parameter to use. Different classifiers were tried including Logistic Regession, Linear Support Vector Machine, K Neighbors Classifer, Random Forest Classifier, Gradient Boosting Classifer, and Multinomial Naive Bayes."
   ]
  },
  {
   "cell_type": "code",
   "execution_count": 25,
   "id": "eb5d4dd7-4406-453e-b17e-37b65c93aa37",
   "metadata": {
    "collapsed": true,
    "execution": {
     "iopub.execute_input": "2023-12-09T05:21:09.678219Z",
     "iopub.status.busy": "2023-12-09T05:21:09.677478Z",
     "iopub.status.idle": "2023-12-09T06:07:43.356086Z",
     "shell.execute_reply": "2023-12-09T06:07:43.354775Z",
     "shell.execute_reply.started": "2023-12-09T05:21:09.678154Z"
    },
    "jupyter": {
     "outputs_hidden": true
    },
    "tags": []
   },
   "outputs": [
    {
     "name": "stdout",
     "output_type": "stream",
     "text": [
      "Fitting 5 folds for each of 85 candidates, totalling 425 fits\n",
      "[CV 1/5] END clf=LogisticRegression(), clf__C=1e-05, clf__penalty=l1, clf__solver=liblinear;, score=(train=0.167, test=1.000) total time=   0.0s\n",
      "[CV 2/5] END clf=LogisticRegression(), clf__C=1e-05, clf__penalty=l1, clf__solver=liblinear;, score=(train=0.250, test=0.666) total time=   0.0s\n",
      "[CV 3/5] END clf=LogisticRegression(), clf__C=1e-05, clf__penalty=l1, clf__solver=liblinear;, score=(train=0.417, test=0.000) total time=   0.0s\n",
      "[CV 4/5] END clf=LogisticRegression(), clf__C=1e-05, clf__penalty=l1, clf__solver=liblinear;, score=(train=0.417, test=0.000) total time=   0.0s\n",
      "[CV 5/5] END clf=LogisticRegression(), clf__C=1e-05, clf__penalty=l1, clf__solver=liblinear;, score=(train=0.417, test=0.000) total time=   0.0s\n",
      "[CV 1/5] END clf=LogisticRegression(), clf__C=1e-05, clf__penalty=l2, clf__solver=liblinear;, score=(train=0.614, test=0.000) total time=   0.0s\n",
      "[CV 2/5] END clf=LogisticRegression(), clf__C=1e-05, clf__penalty=l2, clf__solver=liblinear;, score=(train=0.423, test=0.004) total time=   0.0s\n",
      "[CV 3/5] END clf=LogisticRegression(), clf__C=1e-05, clf__penalty=l2, clf__solver=liblinear;, score=(train=0.644, test=0.000) total time=   0.0s\n",
      "[CV 4/5] END clf=LogisticRegression(), clf__C=1e-05, clf__penalty=l2, clf__solver=liblinear;, score=(train=0.417, test=0.000) total time=   0.0s\n",
      "[CV 5/5] END clf=LogisticRegression(), clf__C=1e-05, clf__penalty=l2, clf__solver=liblinear;, score=(train=0.503, test=0.000) total time=   0.0s\n",
      "[CV 1/5] END clf=LogisticRegression(), clf__C=0.001, clf__penalty=l1, clf__solver=liblinear;, score=(train=0.417, test=0.000) total time=   0.0s\n",
      "[CV 2/5] END clf=LogisticRegression(), clf__C=0.001, clf__penalty=l1, clf__solver=liblinear;, score=(train=0.333, test=0.334) total time=   0.0s\n",
      "[CV 3/5] END clf=LogisticRegression(), clf__C=0.001, clf__penalty=l1, clf__solver=liblinear;, score=(train=0.417, test=0.000) total time=   0.0s\n",
      "[CV 4/5] END clf=LogisticRegression(), clf__C=0.001, clf__penalty=l1, clf__solver=liblinear;, score=(train=0.417, test=0.000) total time=   0.0s\n",
      "[CV 5/5] END clf=LogisticRegression(), clf__C=0.001, clf__penalty=l1, clf__solver=liblinear;, score=(train=0.417, test=0.000) total time=   0.0s\n",
      "[CV 1/5] END clf=LogisticRegression(), clf__C=0.001, clf__penalty=l2, clf__solver=liblinear;, score=(train=0.624, test=0.000) total time=   0.0s\n",
      "[CV 2/5] END clf=LogisticRegression(), clf__C=0.001, clf__penalty=l2, clf__solver=liblinear;, score=(train=0.545, test=0.155) total time=   0.0s\n",
      "[CV 3/5] END clf=LogisticRegression(), clf__C=0.001, clf__penalty=l2, clf__solver=liblinear;, score=(train=0.675, test=0.000) total time=   0.0s\n",
      "[CV 4/5] END clf=LogisticRegression(), clf__C=0.001, clf__penalty=l2, clf__solver=liblinear;, score=(train=0.538, test=0.268) total time=   0.0s\n",
      "[CV 5/5] END clf=LogisticRegression(), clf__C=0.001, clf__penalty=l2, clf__solver=liblinear;, score=(train=0.558, test=0.002) total time=   0.0s\n",
      "[CV 1/5] END clf=LogisticRegression(), clf__C=0.1, clf__penalty=l1, clf__solver=liblinear;, score=(train=0.658, test=0.061) total time=   0.0s\n",
      "[CV 2/5] END clf=LogisticRegression(), clf__C=0.1, clf__penalty=l1, clf__solver=liblinear;, score=(train=0.643, test=0.415) total time=   0.0s\n",
      "[CV 3/5] END clf=LogisticRegression(), clf__C=0.1, clf__penalty=l1, clf__solver=liblinear;, score=(train=0.709, test=0.004) total time=   0.0s\n",
      "[CV 4/5] END clf=LogisticRegression(), clf__C=0.1, clf__penalty=l1, clf__solver=liblinear;, score=(train=0.615, test=0.528) total time=   0.0s\n",
      "[CV 5/5] END clf=LogisticRegression(), clf__C=0.1, clf__penalty=l1, clf__solver=liblinear;, score=(train=0.609, test=0.368) total time=   0.0s\n",
      "[CV 1/5] END clf=LogisticRegression(), clf__C=0.1, clf__penalty=l2, clf__solver=liblinear;, score=(train=0.764, test=0.196) total time=   0.1s\n",
      "[CV 2/5] END clf=LogisticRegression(), clf__C=0.1, clf__penalty=l2, clf__solver=liblinear;, score=(train=0.775, test=0.468) total time=   0.1s\n",
      "[CV 3/5] END clf=LogisticRegression(), clf__C=0.1, clf__penalty=l2, clf__solver=liblinear;, score=(train=0.796, test=0.076) total time=   0.1s\n",
      "[CV 4/5] END clf=LogisticRegression(), clf__C=0.1, clf__penalty=l2, clf__solver=liblinear;, score=(train=0.751, test=0.583) total time=   0.1s\n",
      "[CV 5/5] END clf=LogisticRegression(), clf__C=0.1, clf__penalty=l2, clf__solver=liblinear;, score=(train=0.741, test=0.495) total time=   0.1s\n",
      "[CV 1/5] END clf=LogisticRegression(), clf__C=10.0, clf__penalty=l1, clf__solver=liblinear;, score=(train=0.964, test=0.350) total time=   0.2s\n",
      "[CV 2/5] END clf=LogisticRegression(), clf__C=10.0, clf__penalty=l1, clf__solver=liblinear;, score=(train=0.960, test=0.449) total time=   0.2s\n",
      "[CV 3/5] END clf=LogisticRegression(), clf__C=10.0, clf__penalty=l1, clf__solver=liblinear;, score=(train=0.975, test=0.255) total time=   0.2s\n",
      "[CV 4/5] END clf=LogisticRegression(), clf__C=10.0, clf__penalty=l1, clf__solver=liblinear;, score=(train=0.938, test=0.540) total time=   0.2s\n",
      "[CV 5/5] END clf=LogisticRegression(), clf__C=10.0, clf__penalty=l1, clf__solver=liblinear;, score=(train=0.925, test=0.506) total time=   0.1s\n",
      "[CV 1/5] END clf=LogisticRegression(), clf__C=10.0, clf__penalty=l2, clf__solver=liblinear;, score=(train=0.935, test=0.345) total time=   0.4s\n",
      "[CV 2/5] END clf=LogisticRegression(), clf__C=10.0, clf__penalty=l2, clf__solver=liblinear;, score=(train=0.935, test=0.452) total time=   0.4s\n",
      "[CV 3/5] END clf=LogisticRegression(), clf__C=10.0, clf__penalty=l2, clf__solver=liblinear;, score=(train=0.958, test=0.226) total time=   0.4s\n",
      "[CV 4/5] END clf=LogisticRegression(), clf__C=10.0, clf__penalty=l2, clf__solver=liblinear;, score=(train=0.915, test=0.576) total time=   0.5s\n",
      "[CV 5/5] END clf=LogisticRegression(), clf__C=10.0, clf__penalty=l2, clf__solver=liblinear;, score=(train=0.904, test=0.517) total time=   0.4s\n",
      "[CV 1/5] END clf=LogisticRegression(), clf__C=1000.0, clf__penalty=l1, clf__solver=liblinear;, score=(train=0.996, test=0.329) total time=   2.3s\n",
      "[CV 2/5] END clf=LogisticRegression(), clf__C=1000.0, clf__penalty=l1, clf__solver=liblinear;, score=(train=0.994, test=0.439) total time=   1.0s\n",
      "[CV 3/5] END clf=LogisticRegression(), clf__C=1000.0, clf__penalty=l1, clf__solver=liblinear;, score=(train=1.000, test=0.282) total time=   1.4s\n",
      "[CV 4/5] END clf=LogisticRegression(), clf__C=1000.0, clf__penalty=l1, clf__solver=liblinear;, score=(train=0.985, test=0.494) total time=  12.1s\n",
      "[CV 5/5] END clf=LogisticRegression(), clf__C=1000.0, clf__penalty=l1, clf__solver=liblinear;, score=(train=0.975, test=0.439) total time=  21.8s\n",
      "[CV 1/5] END clf=LogisticRegression(), clf__C=1000.0, clf__penalty=l2, clf__solver=liblinear;, score=(train=0.991, test=0.358) total time=   1.7s\n",
      "[CV 2/5] END clf=LogisticRegression(), clf__C=1000.0, clf__penalty=l2, clf__solver=liblinear;, score=(train=0.984, test=0.440) total time=   2.0s\n",
      "[CV 3/5] END clf=LogisticRegression(), clf__C=1000.0, clf__penalty=l2, clf__solver=liblinear;, score=(train=0.996, test=0.268) total time=   1.4s\n",
      "[CV 4/5] END clf=LogisticRegression(), clf__C=1000.0, clf__penalty=l2, clf__solver=liblinear;, score=(train=0.971, test=0.520) total time=   2.1s\n",
      "[CV 5/5] END clf=LogisticRegression(), clf__C=1000.0, clf__penalty=l2, clf__solver=liblinear;, score=(train=0.954, test=0.470) total time=   1.8s\n",
      "[CV 1/5] END clf=LogisticRegression(), clf__C=100000.0, clf__penalty=l1, clf__solver=liblinear;, score=(train=0.997, test=0.319) total time=   2.7s\n",
      "[CV 2/5] END clf=LogisticRegression(), clf__C=100000.0, clf__penalty=l1, clf__solver=liblinear;, score=(train=0.997, test=0.425) total time=   1.1s\n",
      "[CV 3/5] END clf=LogisticRegression(), clf__C=100000.0, clf__penalty=l1, clf__solver=liblinear;, score=(train=1.000, test=0.278) total time=   0.7s\n",
      "[CV 4/5] END clf=LogisticRegression(), clf__C=100000.0, clf__penalty=l1, clf__solver=liblinear;, score=(train=0.984, test=0.485) total time=  10.8s\n",
      "[CV 5/5] END clf=LogisticRegression(), clf__C=100000.0, clf__penalty=l1, clf__solver=liblinear;, score=(train=0.975, test=0.440) total time=  19.2s\n",
      "[CV 1/5] END clf=LogisticRegression(), clf__C=100000.0, clf__penalty=l2, clf__solver=liblinear;, score=(train=0.999, test=0.370) total time=   2.0s\n",
      "[CV 2/5] END clf=LogisticRegression(), clf__C=100000.0, clf__penalty=l2, clf__solver=liblinear;, score=(train=0.996, test=0.433) total time=   3.6s\n",
      "[CV 3/5] END clf=LogisticRegression(), clf__C=100000.0, clf__penalty=l2, clf__solver=liblinear;, score=(train=0.999, test=0.267) total time=   2.0s\n",
      "[CV 4/5] END clf=LogisticRegression(), clf__C=100000.0, clf__penalty=l2, clf__solver=liblinear;, score=(train=0.985, test=0.491) total time=   5.5s\n",
      "[CV 5/5] END clf=LogisticRegression(), clf__C=100000.0, clf__penalty=l2, clf__solver=liblinear;, score=(train=0.974, test=0.463) total time=   4.4s\n",
      "[CV 1/5] END clf=LinearSVC(), clf__C=1e-05, clf__dual=False, clf__penalty=l1;, score=(train=0.167, test=1.000) total time=   0.0s\n",
      "[CV 2/5] END clf=LinearSVC(), clf__C=1e-05, clf__dual=False, clf__penalty=l1;, score=(train=0.250, test=0.666) total time=   0.0s\n",
      "[CV 3/5] END clf=LinearSVC(), clf__C=1e-05, clf__dual=False, clf__penalty=l1;, score=(train=0.417, test=0.000) total time=   0.0s\n",
      "[CV 4/5] END clf=LinearSVC(), clf__C=1e-05, clf__dual=False, clf__penalty=l1;, score=(train=0.417, test=0.000) total time=   0.0s\n",
      "[CV 5/5] END clf=LinearSVC(), clf__C=1e-05, clf__dual=False, clf__penalty=l1;, score=(train=0.417, test=0.000) total time=   0.0s\n",
      "[CV 1/5] END clf=LinearSVC(), clf__C=1e-05, clf__dual=False, clf__penalty=l2;, score=(train=0.614, test=0.000) total time=   0.0s\n",
      "[CV 2/5] END clf=LinearSVC(), clf__C=1e-05, clf__dual=False, clf__penalty=l2;, score=(train=0.437, test=0.017) total time=   0.0s\n",
      "[CV 3/5] END clf=LinearSVC(), clf__C=1e-05, clf__dual=False, clf__penalty=l2;, score=(train=0.652, test=0.000) total time=   0.0s\n",
      "[CV 4/5] END clf=LinearSVC(), clf__C=1e-05, clf__dual=False, clf__penalty=l2;, score=(train=0.418, test=0.002) total time=   0.0s\n",
      "[CV 5/5] END clf=LinearSVC(), clf__C=1e-05, clf__dual=False, clf__penalty=l2;, score=(train=0.521, test=0.000) total time=   0.0s\n",
      "[CV 1/5] END clf=LinearSVC(), clf__C=0.001, clf__dual=False, clf__penalty=l1;, score=(train=0.456, test=0.000) total time=   0.0s\n",
      "[CV 2/5] END clf=LinearSVC(), clf__C=0.001, clf__dual=False, clf__penalty=l1;, score=(train=0.418, test=0.001) total time=   0.0s\n",
      "[CV 3/5] END clf=LinearSVC(), clf__C=0.001, clf__dual=False, clf__penalty=l1;, score=(train=0.479, test=0.000) total time=   0.0s\n",
      "[CV 4/5] END clf=LinearSVC(), clf__C=0.001, clf__dual=False, clf__penalty=l1;, score=(train=0.417, test=0.000) total time=   0.0s\n",
      "[CV 5/5] END clf=LinearSVC(), clf__C=0.001, clf__dual=False, clf__penalty=l1;, score=(train=0.417, test=0.000) total time=   0.0s\n",
      "[CV 1/5] END clf=LinearSVC(), clf__C=0.001, clf__dual=False, clf__penalty=l2;, score=(train=0.664, test=0.018) total time=   0.0s\n",
      "[CV 2/5] END clf=LinearSVC(), clf__C=0.001, clf__dual=False, clf__penalty=l2;, score=(train=0.668, test=0.382) total time=   0.0s\n",
      "[CV 3/5] END clf=LinearSVC(), clf__C=0.001, clf__dual=False, clf__penalty=l2;, score=(train=0.722, test=0.000) total time=   0.0s\n",
      "[CV 4/5] END clf=LinearSVC(), clf__C=0.001, clf__dual=False, clf__penalty=l2;, score=(train=0.644, test=0.523) total time=   0.0s\n",
      "[CV 5/5] END clf=LinearSVC(), clf__C=0.001, clf__dual=False, clf__penalty=l2;, score=(train=0.645, test=0.307) total time=   0.0s\n",
      "[CV 1/5] END clf=LinearSVC(), clf__C=0.1, clf__dual=False, clf__penalty=l1;, score=(train=0.744, test=0.180) total time=   0.1s\n",
      "[CV 2/5] END clf=LinearSVC(), clf__C=0.1, clf__dual=False, clf__penalty=l1;, score=(train=0.744, test=0.467) total time=   0.1s\n",
      "[CV 3/5] END clf=LinearSVC(), clf__C=0.1, clf__dual=False, clf__penalty=l1;, score=(train=0.774, test=0.048) total time=   0.1s\n",
      "[CV 4/5] END clf=LinearSVC(), clf__C=0.1, clf__dual=False, clf__penalty=l1;, score=(train=0.719, test=0.589) total time=   0.1s\n",
      "[CV 5/5] END clf=LinearSVC(), clf__C=0.1, clf__dual=False, clf__penalty=l1;, score=(train=0.714, test=0.480) total time=   0.1s\n",
      "[CV 1/5] END clf=LinearSVC(), clf__C=0.1, clf__dual=False, clf__penalty=l2;, score=(train=0.863, test=0.303) total time=   0.2s\n",
      "[CV 2/5] END clf=LinearSVC(), clf__C=0.1, clf__dual=False, clf__penalty=l2;, score=(train=0.866, test=0.458) total time=   0.2s\n",
      "[CV 3/5] END clf=LinearSVC(), clf__C=0.1, clf__dual=False, clf__penalty=l2;, score=(train=0.885, test=0.156) total time=   0.1s\n",
      "[CV 4/5] END clf=LinearSVC(), clf__C=0.1, clf__dual=False, clf__penalty=l2;, score=(train=0.849, test=0.585) total time=   0.2s\n",
      "[CV 5/5] END clf=LinearSVC(), clf__C=0.1, clf__dual=False, clf__penalty=l2;, score=(train=0.838, test=0.544) total time=   0.2s\n",
      "[CV 1/5] END clf=LinearSVC(), clf__C=10.0, clf__dual=False, clf__penalty=l1;, score=(train=0.982, test=0.340) total time=   3.3s\n",
      "[CV 2/5] END clf=LinearSVC(), clf__C=10.0, clf__dual=False, clf__penalty=l1;, score=(train=0.978, test=0.443) total time=   3.2s\n",
      "[CV 3/5] END clf=LinearSVC(), clf__C=10.0, clf__dual=False, clf__penalty=l1;, score=(train=0.991, test=0.273) total time=   3.3s\n",
      "[CV 4/5] END clf=LinearSVC(), clf__C=10.0, clf__dual=False, clf__penalty=l1;, score=(train=0.960, test=0.515) total time=   3.2s\n",
      "[CV 5/5] END clf=LinearSVC(), clf__C=10.0, clf__dual=False, clf__penalty=l1;, score=(train=0.941, test=0.475) total time=   2.8s\n",
      "[CV 1/5] END clf=LinearSVC(), clf__C=10.0, clf__dual=False, clf__penalty=l2;, score=(train=0.974, test=0.359) total time=   2.3s\n",
      "[CV 2/5] END clf=LinearSVC(), clf__C=10.0, clf__dual=False, clf__penalty=l2;, score=(train=0.971, test=0.449) total time=   3.3s\n",
      "[CV 3/5] END clf=LinearSVC(), clf__C=10.0, clf__dual=False, clf__penalty=l2;, score=(train=0.985, test=0.280) total time=   2.9s\n",
      "[CV 4/5] END clf=LinearSVC(), clf__C=10.0, clf__dual=False, clf__penalty=l2;, score=(train=0.950, test=0.526) total time=   2.6s\n",
      "[CV 5/5] END clf=LinearSVC(), clf__C=10.0, clf__dual=False, clf__penalty=l2;, score=(train=0.933, test=0.489) total time=   2.0s\n",
      "[CV 1/5] END clf=LinearSVC(), clf__C=1000.0, clf__dual=False, clf__penalty=l1;, score=(train=0.992, test=0.334) total time=   3.7s\n",
      "[CV 2/5] END clf=LinearSVC(), clf__C=1000.0, clf__dual=False, clf__penalty=l1;, score=(train=0.990, test=0.435) total time=   3.5s\n",
      "[CV 3/5] END clf=LinearSVC(), clf__C=1000.0, clf__dual=False, clf__penalty=l1;, score=(train=1.000, test=0.272) total time=   3.4s\n",
      "[CV 4/5] END clf=LinearSVC(), clf__C=1000.0, clf__dual=False, clf__penalty=l1;, score=(train=0.974, test=0.494) total time=   3.4s\n",
      "[CV 5/5] END clf=LinearSVC(), clf__C=1000.0, clf__dual=False, clf__penalty=l1;, score=(train=0.960, test=0.440) total time=   3.0s\n",
      "[CV 1/5] END clf=LinearSVC(), clf__C=1000.0, clf__dual=False, clf__penalty=l2;, score=(train=0.989, test=0.336) total time=   8.0s\n",
      "[CV 2/5] END clf=LinearSVC(), clf__C=1000.0, clf__dual=False, clf__penalty=l2;, score=(train=0.983, test=0.431) total time=   7.4s\n",
      "[CV 3/5] END clf=LinearSVC(), clf__C=1000.0, clf__dual=False, clf__penalty=l2;, score=(train=0.996, test=0.267) total time=   5.8s\n",
      "[CV 4/5] END clf=LinearSVC(), clf__C=1000.0, clf__dual=False, clf__penalty=l2;, score=(train=0.969, test=0.503) total time=   8.8s\n",
      "[CV 5/5] END clf=LinearSVC(), clf__C=1000.0, clf__dual=False, clf__penalty=l2;, score=(train=0.953, test=0.461) total time=   8.8s\n",
      "[CV 1/5] END clf=LinearSVC(), clf__C=100000.0, clf__dual=False, clf__penalty=l1;, score=(train=0.993, test=0.326) total time=   3.6s\n",
      "[CV 2/5] END clf=LinearSVC(), clf__C=100000.0, clf__dual=False, clf__penalty=l1;, score=(train=0.991, test=0.436) total time=   3.6s\n",
      "[CV 3/5] END clf=LinearSVC(), clf__C=100000.0, clf__dual=False, clf__penalty=l1;, score=(train=1.000, test=0.272) total time=   3.4s\n",
      "[CV 4/5] END clf=LinearSVC(), clf__C=100000.0, clf__dual=False, clf__penalty=l1;, score=(train=0.974, test=0.500) total time=   3.5s\n",
      "[CV 5/5] END clf=LinearSVC(), clf__C=100000.0, clf__dual=False, clf__penalty=l1;, score=(train=0.960, test=0.438) total time=   2.8s\n",
      "[CV 1/5] END clf=LinearSVC(), clf__C=100000.0, clf__dual=False, clf__penalty=l2;, score=(train=0.989, test=0.337) total time=   7.5s\n",
      "[CV 2/5] END clf=LinearSVC(), clf__C=100000.0, clf__dual=False, clf__penalty=l2;, score=(train=0.983, test=0.432) total time=   7.6s\n",
      "[CV 3/5] END clf=LinearSVC(), clf__C=100000.0, clf__dual=False, clf__penalty=l2;, score=(train=0.996, test=0.265) total time=   5.5s\n",
      "[CV 4/5] END clf=LinearSVC(), clf__C=100000.0, clf__dual=False, clf__penalty=l2;, score=(train=0.969, test=0.509) total time=   9.2s\n",
      "[CV 5/5] END clf=LinearSVC(), clf__C=100000.0, clf__dual=False, clf__penalty=l2;, score=(train=0.954, test=0.462) total time=   8.1s\n",
      "[CV 1/5] END clf=KNeighborsClassifier(), clf__n_neighbors=1;, score=(train=1.000, test=0.365) total time=   0.3s\n",
      "[CV 2/5] END clf=KNeighborsClassifier(), clf__n_neighbors=1;, score=(train=1.000, test=0.419) total time=   0.3s\n",
      "[CV 3/5] END clf=KNeighborsClassifier(), clf__n_neighbors=1;, score=(train=1.000, test=0.153) total time=   0.3s\n",
      "[CV 4/5] END clf=KNeighborsClassifier(), clf__n_neighbors=1;, score=(train=1.000, test=0.337) total time=   0.2s\n",
      "[CV 5/5] END clf=KNeighborsClassifier(), clf__n_neighbors=1;, score=(train=1.000, test=0.240) total time=   0.2s\n",
      "[CV 1/5] END clf=KNeighborsClassifier(), clf__n_neighbors=2;, score=(train=0.667, test=0.534) total time=   0.2s\n",
      "[CV 2/5] END clf=KNeighborsClassifier(), clf__n_neighbors=2;, score=(train=0.677, test=0.540) total time=   0.2s\n",
      "[CV 3/5] END clf=KNeighborsClassifier(), clf__n_neighbors=2;, score=(train=0.711, test=0.106) total time=   0.3s\n",
      "[CV 4/5] END clf=KNeighborsClassifier(), clf__n_neighbors=2;, score=(train=0.666, test=0.183) total time=   0.3s\n",
      "[CV 5/5] END clf=KNeighborsClassifier(), clf__n_neighbors=2;, score=(train=0.660, test=0.076) total time=   0.3s\n",
      "[CV 1/5] END clf=KNeighborsClassifier(), clf__n_neighbors=3;, score=(train=0.695, test=0.445) total time=   0.3s\n",
      "[CV 2/5] END clf=KNeighborsClassifier(), clf__n_neighbors=3;, score=(train=0.695, test=0.489) total time=   0.3s\n",
      "[CV 3/5] END clf=KNeighborsClassifier(), clf__n_neighbors=3;, score=(train=0.719, test=0.071) total time=   0.3s\n",
      "[CV 4/5] END clf=KNeighborsClassifier(), clf__n_neighbors=3;, score=(train=0.678, test=0.278) total time=   0.3s\n",
      "[CV 5/5] END clf=KNeighborsClassifier(), clf__n_neighbors=3;, score=(train=0.669, test=0.144) total time=   0.3s\n",
      "[CV 1/5] END clf=KNeighborsClassifier(), clf__n_neighbors=4;, score=(train=0.688, test=0.252) total time=   0.3s\n",
      "[CV 2/5] END clf=KNeighborsClassifier(), clf__n_neighbors=4;, score=(train=0.697, test=0.342) total time=   0.3s\n",
      "[CV 3/5] END clf=KNeighborsClassifier(), clf__n_neighbors=4;, score=(train=0.723, test=0.104) total time=   0.3s\n",
      "[CV 4/5] END clf=KNeighborsClassifier(), clf__n_neighbors=4;, score=(train=0.668, test=0.372) total time=   0.3s\n",
      "[CV 5/5] END clf=KNeighborsClassifier(), clf__n_neighbors=4;, score=(train=0.651, test=0.222) total time=   0.2s\n",
      "[CV 1/5] END clf=KNeighborsClassifier(), clf__n_neighbors=5;, score=(train=0.670, test=0.281) total time=   0.3s\n",
      "[CV 2/5] END clf=KNeighborsClassifier(), clf__n_neighbors=5;, score=(train=0.665, test=0.356) total time=   0.3s\n",
      "[CV 3/5] END clf=KNeighborsClassifier(), clf__n_neighbors=5;, score=(train=0.700, test=0.097) total time=   0.3s\n",
      "[CV 4/5] END clf=KNeighborsClassifier(), clf__n_neighbors=5;, score=(train=0.652, test=0.373) total time=   0.3s\n",
      "[CV 5/5] END clf=KNeighborsClassifier(), clf__n_neighbors=5;, score=(train=0.632, test=0.169) total time=   0.3s\n",
      "[CV 1/5] END clf=KNeighborsClassifier(), clf__n_neighbors=6;, score=(train=0.653, test=0.269) total time=   0.3s\n",
      "[CV 2/5] END clf=KNeighborsClassifier(), clf__n_neighbors=6;, score=(train=0.640, test=0.318) total time=   0.3s\n",
      "[CV 3/5] END clf=KNeighborsClassifier(), clf__n_neighbors=6;, score=(train=0.681, test=0.062) total time=   0.3s\n",
      "[CV 4/5] END clf=KNeighborsClassifier(), clf__n_neighbors=6;, score=(train=0.639, test=0.374) total time=   0.3s\n",
      "[CV 5/5] END clf=KNeighborsClassifier(), clf__n_neighbors=6;, score=(train=0.618, test=0.199) total time=   0.3s\n",
      "[CV 1/5] END clf=KNeighborsClassifier(), clf__n_neighbors=7;, score=(train=0.644, test=0.203) total time=   0.3s\n",
      "[CV 2/5] END clf=KNeighborsClassifier(), clf__n_neighbors=7;, score=(train=0.629, test=0.308) total time=   0.3s\n",
      "[CV 3/5] END clf=KNeighborsClassifier(), clf__n_neighbors=7;, score=(train=0.672, test=0.066) total time=   0.3s\n",
      "[CV 4/5] END clf=KNeighborsClassifier(), clf__n_neighbors=7;, score=(train=0.625, test=0.396) total time=   0.3s\n",
      "[CV 5/5] END clf=KNeighborsClassifier(), clf__n_neighbors=7;, score=(train=0.606, test=0.193) total time=   0.3s\n",
      "[CV 1/5] END clf=KNeighborsClassifier(), clf__n_neighbors=8;, score=(train=0.646, test=0.220) total time=   0.3s\n",
      "[CV 2/5] END clf=KNeighborsClassifier(), clf__n_neighbors=8;, score=(train=0.623, test=0.309) total time=   0.3s\n",
      "[CV 3/5] END clf=KNeighborsClassifier(), clf__n_neighbors=8;, score=(train=0.660, test=0.056) total time=   0.3s\n",
      "[CV 4/5] END clf=KNeighborsClassifier(), clf__n_neighbors=8;, score=(train=0.612, test=0.362) total time=   0.3s\n",
      "[CV 5/5] END clf=KNeighborsClassifier(), clf__n_neighbors=8;, score=(train=0.591, test=0.183) total time=   0.3s\n",
      "[CV 1/5] END clf=KNeighborsClassifier(), clf__n_neighbors=9;, score=(train=0.638, test=0.210) total time=   0.3s\n",
      "[CV 2/5] END clf=KNeighborsClassifier(), clf__n_neighbors=9;, score=(train=0.614, test=0.298) total time=   0.3s\n",
      "[CV 3/5] END clf=KNeighborsClassifier(), clf__n_neighbors=9;, score=(train=0.657, test=0.042) total time=   0.3s\n",
      "[CV 4/5] END clf=KNeighborsClassifier(), clf__n_neighbors=9;, score=(train=0.600, test=0.385) total time=   0.3s\n",
      "[CV 5/5] END clf=KNeighborsClassifier(), clf__n_neighbors=9;, score=(train=0.591, test=0.196) total time=   0.3s\n",
      "[CV 1/5] END clf=KNeighborsClassifier(), clf__n_neighbors=10;, score=(train=0.634, test=0.185) total time=   0.3s\n",
      "[CV 2/5] END clf=KNeighborsClassifier(), clf__n_neighbors=10;, score=(train=0.598, test=0.290) total time=   0.3s\n",
      "[CV 3/5] END clf=KNeighborsClassifier(), clf__n_neighbors=10;, score=(train=0.654, test=0.041) total time=   0.3s\n",
      "[CV 4/5] END clf=KNeighborsClassifier(), clf__n_neighbors=10;, score=(train=0.605, test=0.390) total time=   0.3s\n",
      "[CV 5/5] END clf=KNeighborsClassifier(), clf__n_neighbors=10;, score=(train=0.585, test=0.195) total time=   0.3s\n",
      "[CV 1/5] END clf=RandomForestClassifier(), clf__max_depth=5;, score=(train=0.661, test=0.000) total time=   0.3s\n",
      "[CV 2/5] END clf=RandomForestClassifier(), clf__max_depth=5;, score=(train=0.471, test=0.038) total time=   0.3s\n",
      "[CV 3/5] END clf=RandomForestClassifier(), clf__max_depth=5;, score=(train=0.709, test=0.000) total time=   0.3s\n",
      "[CV 4/5] END clf=RandomForestClassifier(), clf__max_depth=5;, score=(train=0.443, test=0.060) total time=   0.3s\n",
      "[CV 5/5] END clf=RandomForestClassifier(), clf__max_depth=5;, score=(train=0.595, test=0.000) total time=   0.3s\n",
      "[CV 1/5] END clf=RandomForestClassifier(), clf__max_depth=6;, score=(train=0.669, test=0.000) total time=   0.3s\n",
      "[CV 2/5] END clf=RandomForestClassifier(), clf__max_depth=6;, score=(train=0.499, test=0.063) total time=   0.3s\n",
      "[CV 3/5] END clf=RandomForestClassifier(), clf__max_depth=6;, score=(train=0.714, test=0.000) total time=   0.3s\n",
      "[CV 4/5] END clf=RandomForestClassifier(), clf__max_depth=6;, score=(train=0.470, test=0.098) total time=   0.3s\n",
      "[CV 5/5] END clf=RandomForestClassifier(), clf__max_depth=6;, score=(train=0.608, test=0.002) total time=   0.3s\n",
      "[CV 1/5] END clf=RandomForestClassifier(), clf__max_depth=7;, score=(train=0.684, test=0.000) total time=   0.3s\n",
      "[CV 2/5] END clf=RandomForestClassifier(), clf__max_depth=7;, score=(train=0.529, test=0.091) total time=   0.3s\n",
      "[CV 3/5] END clf=RandomForestClassifier(), clf__max_depth=7;, score=(train=0.728, test=0.000) total time=   0.3s\n",
      "[CV 4/5] END clf=RandomForestClassifier(), clf__max_depth=7;, score=(train=0.502, test=0.156) total time=   0.3s\n",
      "[CV 5/5] END clf=RandomForestClassifier(), clf__max_depth=7;, score=(train=0.632, test=0.005) total time=   0.3s\n",
      "[CV 1/5] END clf=RandomForestClassifier(), clf__max_depth=8;, score=(train=0.697, test=0.000) total time=   0.3s\n",
      "[CV 2/5] END clf=RandomForestClassifier(), clf__max_depth=8;, score=(train=0.567, test=0.110) total time=   0.3s\n",
      "[CV 3/5] END clf=RandomForestClassifier(), clf__max_depth=8;, score=(train=0.736, test=0.000) total time=   0.3s\n",
      "[CV 4/5] END clf=RandomForestClassifier(), clf__max_depth=8;, score=(train=0.532, test=0.182) total time=   0.3s\n",
      "[CV 5/5] END clf=RandomForestClassifier(), clf__max_depth=8;, score=(train=0.660, test=0.013) total time=   0.3s\n",
      "[CV 1/5] END clf=RandomForestClassifier(), clf__max_depth=9;, score=(train=0.703, test=0.000) total time=   0.4s\n",
      "[CV 2/5] END clf=RandomForestClassifier(), clf__max_depth=9;, score=(train=0.596, test=0.142) total time=   0.3s\n",
      "[CV 3/5] END clf=RandomForestClassifier(), clf__max_depth=9;, score=(train=0.735, test=0.000) total time=   0.3s\n",
      "[CV 4/5] END clf=RandomForestClassifier(), clf__max_depth=9;, score=(train=0.562, test=0.224) total time=   0.3s\n",
      "[CV 5/5] END clf=RandomForestClassifier(), clf__max_depth=9;, score=(train=0.671, test=0.019) total time=   0.3s\n",
      "[CV 1/5] END clf=RandomForestClassifier(), clf__max_depth=10;, score=(train=0.707, test=0.000) total time=   0.4s\n",
      "[CV 2/5] END clf=RandomForestClassifier(), clf__max_depth=10;, score=(train=0.635, test=0.141) total time=   0.4s\n",
      "[CV 3/5] END clf=RandomForestClassifier(), clf__max_depth=10;, score=(train=0.743, test=0.000) total time=   0.4s\n",
      "[CV 4/5] END clf=RandomForestClassifier(), clf__max_depth=10;, score=(train=0.595, test=0.255) total time=   0.4s\n",
      "[CV 5/5] END clf=RandomForestClassifier(), clf__max_depth=10;, score=(train=0.695, test=0.041) total time=   0.4s\n",
      "[CV 1/5] END clf=RandomForestClassifier(), clf__max_depth=11;, score=(train=0.726, test=0.000) total time=   0.4s\n",
      "[CV 2/5] END clf=RandomForestClassifier(), clf__max_depth=11;, score=(train=0.675, test=0.192) total time=   0.4s\n",
      "[CV 3/5] END clf=RandomForestClassifier(), clf__max_depth=11;, score=(train=0.749, test=0.000) total time=   0.4s\n",
      "[CV 4/5] END clf=RandomForestClassifier(), clf__max_depth=11;, score=(train=0.627, test=0.270) total time=   0.4s\n",
      "[CV 5/5] END clf=RandomForestClassifier(), clf__max_depth=11;, score=(train=0.718, test=0.040) total time=   0.4s\n",
      "[CV 1/5] END clf=RandomForestClassifier(), clf__max_depth=12;, score=(train=0.731, test=0.000) total time=   0.5s\n",
      "[CV 2/5] END clf=RandomForestClassifier(), clf__max_depth=12;, score=(train=0.708, test=0.213) total time=   0.5s\n",
      "[CV 3/5] END clf=RandomForestClassifier(), clf__max_depth=12;, score=(train=0.756, test=0.000) total time=   0.5s\n",
      "[CV 4/5] END clf=RandomForestClassifier(), clf__max_depth=12;, score=(train=0.662, test=0.309) total time=   0.5s\n",
      "[CV 5/5] END clf=RandomForestClassifier(), clf__max_depth=12;, score=(train=0.735, test=0.053) total time=   0.4s\n",
      "[CV 1/5] END clf=RandomForestClassifier(), clf__max_depth=13;, score=(train=0.748, test=0.000) total time=   0.5s\n",
      "[CV 2/5] END clf=RandomForestClassifier(), clf__max_depth=13;, score=(train=0.735, test=0.242) total time=   0.5s\n",
      "[CV 3/5] END clf=RandomForestClassifier(), clf__max_depth=13;, score=(train=0.765, test=0.000) total time=   0.5s\n",
      "[CV 4/5] END clf=RandomForestClassifier(), clf__max_depth=13;, score=(train=0.706, test=0.331) total time=   0.5s\n",
      "[CV 5/5] END clf=RandomForestClassifier(), clf__max_depth=13;, score=(train=0.755, test=0.069) total time=   0.5s\n",
      "[CV 1/5] END clf=RandomForestClassifier(), clf__max_depth=14;, score=(train=0.751, test=0.000) total time=   0.6s\n",
      "[CV 2/5] END clf=RandomForestClassifier(), clf__max_depth=14;, score=(train=0.763, test=0.241) total time=   0.6s\n",
      "[CV 3/5] END clf=RandomForestClassifier(), clf__max_depth=14;, score=(train=0.777, test=0.000) total time=   0.6s\n",
      "[CV 4/5] END clf=RandomForestClassifier(), clf__max_depth=14;, score=(train=0.727, test=0.359) total time=   0.6s\n",
      "[CV 5/5] END clf=RandomForestClassifier(), clf__max_depth=14;, score=(train=0.778, test=0.066) total time=   0.5s\n",
      "[CV 1/5] END clf=RandomForestClassifier(), clf__max_depth=15;, score=(train=0.770, test=0.000) total time=   0.6s\n",
      "[CV 2/5] END clf=RandomForestClassifier(), clf__max_depth=15;, score=(train=0.780, test=0.268) total time=   0.6s\n",
      "[CV 3/5] END clf=RandomForestClassifier(), clf__max_depth=15;, score=(train=0.786, test=0.000) total time=   0.7s\n",
      "[CV 4/5] END clf=RandomForestClassifier(), clf__max_depth=15;, score=(train=0.761, test=0.368) total time=   0.6s\n",
      "[CV 5/5] END clf=RandomForestClassifier(), clf__max_depth=15;, score=(train=0.798, test=0.089) total time=   0.6s\n",
      "[CV 1/5] END clf=GradientBoostingClassifier(), clf__learning_rate=0.1, clf__max_depth=5;, score=(train=0.839, test=0.157) total time=   6.1s\n",
      "[CV 2/5] END clf=GradientBoostingClassifier(), clf__learning_rate=0.1, clf__max_depth=5;, score=(train=0.846, test=0.439) total time=   6.1s\n",
      "[CV 3/5] END clf=GradientBoostingClassifier(), clf__learning_rate=0.1, clf__max_depth=5;, score=(train=0.846, test=0.033) total time=   5.9s\n",
      "[CV 4/5] END clf=GradientBoostingClassifier(), clf__learning_rate=0.1, clf__max_depth=5;, score=(train=0.838, test=0.539) total time=   6.1s\n",
      "[CV 5/5] END clf=GradientBoostingClassifier(), clf__learning_rate=0.1, clf__max_depth=5;, score=(train=0.840, test=0.369) total time=   6.0s\n",
      "[CV 1/5] END clf=GradientBoostingClassifier(), clf__learning_rate=0.1, clf__max_depth=6;, score=(train=0.883, test=0.161) total time=   7.7s\n",
      "[CV 2/5] END clf=GradientBoostingClassifier(), clf__learning_rate=0.1, clf__max_depth=6;, score=(train=0.897, test=0.440) total time=   7.9s\n",
      "[CV 3/5] END clf=GradientBoostingClassifier(), clf__learning_rate=0.1, clf__max_depth=6;, score=(train=0.888, test=0.042) total time=   7.5s\n",
      "[CV 4/5] END clf=GradientBoostingClassifier(), clf__learning_rate=0.1, clf__max_depth=6;, score=(train=0.892, test=0.539) total time=   7.8s\n",
      "[CV 5/5] END clf=GradientBoostingClassifier(), clf__learning_rate=0.1, clf__max_depth=6;, score=(train=0.886, test=0.388) total time=   7.8s\n",
      "[CV 1/5] END clf=GradientBoostingClassifier(), clf__learning_rate=0.1, clf__max_depth=7;, score=(train=0.910, test=0.169) total time=   9.5s\n",
      "[CV 2/5] END clf=GradientBoostingClassifier(), clf__learning_rate=0.1, clf__max_depth=7;, score=(train=0.933, test=0.453) total time=   9.9s\n",
      "[CV 3/5] END clf=GradientBoostingClassifier(), clf__learning_rate=0.1, clf__max_depth=7;, score=(train=0.916, test=0.051) total time=   9.4s\n",
      "[CV 4/5] END clf=GradientBoostingClassifier(), clf__learning_rate=0.1, clf__max_depth=7;, score=(train=0.924, test=0.541) total time=   9.7s\n",
      "[CV 5/5] END clf=GradientBoostingClassifier(), clf__learning_rate=0.1, clf__max_depth=7;, score=(train=0.913, test=0.386) total time=   9.2s\n",
      "[CV 1/5] END clf=GradientBoostingClassifier(), clf__learning_rate=0.1, clf__max_depth=8;, score=(train=0.938, test=0.188) total time=  11.6s\n",
      "[CV 2/5] END clf=GradientBoostingClassifier(), clf__learning_rate=0.1, clf__max_depth=8;, score=(train=0.952, test=0.459) total time=  11.9s\n",
      "[CV 3/5] END clf=GradientBoostingClassifier(), clf__learning_rate=0.1, clf__max_depth=8;, score=(train=0.939, test=0.056) total time=  11.7s\n",
      "[CV 4/5] END clf=GradientBoostingClassifier(), clf__learning_rate=0.1, clf__max_depth=8;, score=(train=0.948, test=0.549) total time=  11.7s\n",
      "[CV 5/5] END clf=GradientBoostingClassifier(), clf__learning_rate=0.1, clf__max_depth=8;, score=(train=0.940, test=0.387) total time=  11.5s\n",
      "[CV 1/5] END clf=GradientBoostingClassifier(), clf__learning_rate=0.1, clf__max_depth=9;, score=(train=0.954, test=0.184) total time=  14.2s\n",
      "[CV 2/5] END clf=GradientBoostingClassifier(), clf__learning_rate=0.1, clf__max_depth=9;, score=(train=0.967, test=0.455) total time=  14.7s\n",
      "[CV 3/5] END clf=GradientBoostingClassifier(), clf__learning_rate=0.1, clf__max_depth=9;, score=(train=0.956, test=0.061) total time=  13.9s\n",
      "[CV 4/5] END clf=GradientBoostingClassifier(), clf__learning_rate=0.1, clf__max_depth=9;, score=(train=0.962, test=0.544) total time=  14.3s\n",
      "[CV 5/5] END clf=GradientBoostingClassifier(), clf__learning_rate=0.1, clf__max_depth=9;, score=(train=0.956, test=0.391) total time=  13.4s\n",
      "[CV 1/5] END clf=GradientBoostingClassifier(), clf__learning_rate=0.1, clf__max_depth=10;, score=(train=0.969, test=0.171) total time=  16.8s\n",
      "[CV 2/5] END clf=GradientBoostingClassifier(), clf__learning_rate=0.1, clf__max_depth=10;, score=(train=0.978, test=0.460) total time=  17.2s\n",
      "[CV 3/5] END clf=GradientBoostingClassifier(), clf__learning_rate=0.1, clf__max_depth=10;, score=(train=0.970, test=0.068) total time=  16.8s\n",
      "[CV 4/5] END clf=GradientBoostingClassifier(), clf__learning_rate=0.1, clf__max_depth=10;, score=(train=0.970, test=0.540) total time=  16.5s\n",
      "[CV 5/5] END clf=GradientBoostingClassifier(), clf__learning_rate=0.1, clf__max_depth=10;, score=(train=0.967, test=0.394) total time=  15.6s\n",
      "[CV 1/5] END clf=GradientBoostingClassifier(), clf__learning_rate=0.1, clf__max_depth=11;, score=(train=0.977, test=0.175) total time=  19.1s\n",
      "[CV 2/5] END clf=GradientBoostingClassifier(), clf__learning_rate=0.1, clf__max_depth=11;, score=(train=0.985, test=0.450) total time=  20.3s\n",
      "[CV 3/5] END clf=GradientBoostingClassifier(), clf__learning_rate=0.1, clf__max_depth=11;, score=(train=0.976, test=0.062) total time=  19.3s\n",
      "[CV 4/5] END clf=GradientBoostingClassifier(), clf__learning_rate=0.1, clf__max_depth=11;, score=(train=0.978, test=0.545) total time=  19.5s\n",
      "[CV 5/5] END clf=GradientBoostingClassifier(), clf__learning_rate=0.1, clf__max_depth=11;, score=(train=0.977, test=0.384) total time=  19.0s\n",
      "[CV 1/5] END clf=GradientBoostingClassifier(), clf__learning_rate=0.1, clf__max_depth=12;, score=(train=0.983, test=0.176) total time=  22.2s\n",
      "[CV 2/5] END clf=GradientBoostingClassifier(), clf__learning_rate=0.1, clf__max_depth=12;, score=(train=0.989, test=0.457) total time=  23.3s\n",
      "[CV 3/5] END clf=GradientBoostingClassifier(), clf__learning_rate=0.1, clf__max_depth=12;, score=(train=0.984, test=0.073) total time=  22.5s\n",
      "[CV 4/5] END clf=GradientBoostingClassifier(), clf__learning_rate=0.1, clf__max_depth=12;, score=(train=0.983, test=0.549) total time=  22.2s\n",
      "[CV 5/5] END clf=GradientBoostingClassifier(), clf__learning_rate=0.1, clf__max_depth=12;, score=(train=0.984, test=0.383) total time=  21.6s\n",
      "[CV 1/5] END clf=GradientBoostingClassifier(), clf__learning_rate=0.1, clf__max_depth=13;, score=(train=0.985, test=0.165) total time=  25.3s\n",
      "[CV 2/5] END clf=GradientBoostingClassifier(), clf__learning_rate=0.1, clf__max_depth=13;, score=(train=0.993, test=0.457) total time=  26.0s\n",
      "[CV 3/5] END clf=GradientBoostingClassifier(), clf__learning_rate=0.1, clf__max_depth=13;, score=(train=0.989, test=0.080) total time=  25.2s\n",
      "[CV 4/5] END clf=GradientBoostingClassifier(), clf__learning_rate=0.1, clf__max_depth=13;, score=(train=0.987, test=0.532) total time=  25.2s\n",
      "[CV 5/5] END clf=GradientBoostingClassifier(), clf__learning_rate=0.1, clf__max_depth=13;, score=(train=0.985, test=0.366) total time=  25.0s\n",
      "[CV 1/5] END clf=GradientBoostingClassifier(), clf__learning_rate=0.1, clf__max_depth=14;, score=(train=0.988, test=0.175) total time=  29.0s\n",
      "[CV 2/5] END clf=GradientBoostingClassifier(), clf__learning_rate=0.1, clf__max_depth=14;, score=(train=0.995, test=0.463) total time=  30.6s\n",
      "[CV 3/5] END clf=GradientBoostingClassifier(), clf__learning_rate=0.1, clf__max_depth=14;, score=(train=0.992, test=0.072) total time=  29.3s\n",
      "[CV 4/5] END clf=GradientBoostingClassifier(), clf__learning_rate=0.1, clf__max_depth=14;, score=(train=0.991, test=0.531) total time=  28.4s\n",
      "[CV 5/5] END clf=GradientBoostingClassifier(), clf__learning_rate=0.1, clf__max_depth=14;, score=(train=0.990, test=0.348) total time=  27.3s\n",
      "[CV 1/5] END clf=GradientBoostingClassifier(), clf__learning_rate=0.1, clf__max_depth=15;, score=(train=0.992, test=0.166) total time=  32.3s\n",
      "[CV 2/5] END clf=GradientBoostingClassifier(), clf__learning_rate=0.1, clf__max_depth=15;, score=(train=0.995, test=0.464) total time=  34.0s\n",
      "[CV 3/5] END clf=GradientBoostingClassifier(), clf__learning_rate=0.1, clf__max_depth=15;, score=(train=0.995, test=0.088) total time=  32.5s\n",
      "[CV 4/5] END clf=GradientBoostingClassifier(), clf__learning_rate=0.1, clf__max_depth=15;, score=(train=0.991, test=0.537) total time=  31.6s\n",
      "[CV 5/5] END clf=GradientBoostingClassifier(), clf__learning_rate=0.1, clf__max_depth=15;, score=(train=0.994, test=0.348) total time=  31.1s\n",
      "[CV 1/5] END clf=GradientBoostingClassifier(), clf__learning_rate=0.5, clf__max_depth=5;, score=(train=0.977, test=0.217) total time=   5.4s\n",
      "[CV 2/5] END clf=GradientBoostingClassifier(), clf__learning_rate=0.5, clf__max_depth=5;, score=(train=0.976, test=0.465) total time=   5.3s\n",
      "[CV 3/5] END clf=GradientBoostingClassifier(), clf__learning_rate=0.5, clf__max_depth=5;, score=(train=0.982, test=0.105) total time=   5.3s\n",
      "[CV 4/5] END clf=GradientBoostingClassifier(), clf__learning_rate=0.5, clf__max_depth=5;, score=(train=0.969, test=0.569) total time=   5.4s\n",
      "[CV 5/5] END clf=GradientBoostingClassifier(), clf__learning_rate=0.5, clf__max_depth=5;, score=(train=0.972, test=0.439) total time=   5.2s\n",
      "[CV 1/5] END clf=GradientBoostingClassifier(), clf__learning_rate=0.5, clf__max_depth=6;, score=(train=0.987, test=0.223) total time=   6.6s\n",
      "[CV 2/5] END clf=GradientBoostingClassifier(), clf__learning_rate=0.5, clf__max_depth=6;, score=(train=0.987, test=0.478) total time=   6.7s\n",
      "[CV 3/5] END clf=GradientBoostingClassifier(), clf__learning_rate=0.5, clf__max_depth=6;, score=(train=0.990, test=0.100) total time=   6.6s\n",
      "[CV 4/5] END clf=GradientBoostingClassifier(), clf__learning_rate=0.5, clf__max_depth=6;, score=(train=0.984, test=0.565) total time=   6.5s\n",
      "[CV 5/5] END clf=GradientBoostingClassifier(), clf__learning_rate=0.5, clf__max_depth=6;, score=(train=0.984, test=0.431) total time=   6.6s\n",
      "[CV 1/5] END clf=GradientBoostingClassifier(), clf__learning_rate=0.5, clf__max_depth=7;, score=(train=0.992, test=0.215) total time=   8.0s\n",
      "[CV 2/5] END clf=GradientBoostingClassifier(), clf__learning_rate=0.5, clf__max_depth=7;, score=(train=0.992, test=0.473) total time=   7.9s\n",
      "[CV 3/5] END clf=GradientBoostingClassifier(), clf__learning_rate=0.5, clf__max_depth=7;, score=(train=0.993, test=0.104) total time=   7.9s\n",
      "[CV 4/5] END clf=GradientBoostingClassifier(), clf__learning_rate=0.5, clf__max_depth=7;, score=(train=0.989, test=0.565) total time=   7.8s\n",
      "[CV 5/5] END clf=GradientBoostingClassifier(), clf__learning_rate=0.5, clf__max_depth=7;, score=(train=0.992, test=0.415) total time=   8.0s\n",
      "[CV 1/5] END clf=GradientBoostingClassifier(), clf__learning_rate=0.5, clf__max_depth=8;, score=(train=0.995, test=0.221) total time=   9.5s\n",
      "[CV 2/5] END clf=GradientBoostingClassifier(), clf__learning_rate=0.5, clf__max_depth=8;, score=(train=0.996, test=0.459) total time=   9.8s\n",
      "[CV 3/5] END clf=GradientBoostingClassifier(), clf__learning_rate=0.5, clf__max_depth=8;, score=(train=0.998, test=0.101) total time=   9.8s\n",
      "[CV 4/5] END clf=GradientBoostingClassifier(), clf__learning_rate=0.5, clf__max_depth=8;, score=(train=0.995, test=0.569) total time=   9.3s\n",
      "[CV 5/5] END clf=GradientBoostingClassifier(), clf__learning_rate=0.5, clf__max_depth=8;, score=(train=0.994, test=0.397) total time=   9.3s\n",
      "[CV 1/5] END clf=GradientBoostingClassifier(), clf__learning_rate=0.5, clf__max_depth=9;, score=(train=0.998, test=0.202) total time=  11.1s\n",
      "[CV 2/5] END clf=GradientBoostingClassifier(), clf__learning_rate=0.5, clf__max_depth=9;, score=(train=0.998, test=0.476) total time=  11.3s\n",
      "[CV 3/5] END clf=GradientBoostingClassifier(), clf__learning_rate=0.5, clf__max_depth=9;, score=(train=0.999, test=0.096) total time=  11.0s\n",
      "[CV 4/5] END clf=GradientBoostingClassifier(), clf__learning_rate=0.5, clf__max_depth=9;, score=(train=0.998, test=0.555) total time=  11.1s\n",
      "[CV 5/5] END clf=GradientBoostingClassifier(), clf__learning_rate=0.5, clf__max_depth=9;, score=(train=0.998, test=0.392) total time=  11.2s\n",
      "[CV 1/5] END clf=GradientBoostingClassifier(), clf__learning_rate=0.5, clf__max_depth=10;, score=(train=0.999, test=0.212) total time=  13.2s\n",
      "[CV 2/5] END clf=GradientBoostingClassifier(), clf__learning_rate=0.5, clf__max_depth=10;, score=(train=0.999, test=0.465) total time=  13.3s\n",
      "[CV 3/5] END clf=GradientBoostingClassifier(), clf__learning_rate=0.5, clf__max_depth=10;, score=(train=1.000, test=0.102) total time=  12.8s\n",
      "[CV 4/5] END clf=GradientBoostingClassifier(), clf__learning_rate=0.5, clf__max_depth=10;, score=(train=0.999, test=0.546) total time=  13.3s\n",
      "[CV 5/5] END clf=GradientBoostingClassifier(), clf__learning_rate=0.5, clf__max_depth=10;, score=(train=0.998, test=0.385) total time=  12.7s\n",
      "[CV 1/5] END clf=GradientBoostingClassifier(), clf__learning_rate=0.5, clf__max_depth=11;, score=(train=1.000, test=0.191) total time=  15.2s\n",
      "[CV 2/5] END clf=GradientBoostingClassifier(), clf__learning_rate=0.5, clf__max_depth=11;, score=(train=1.000, test=0.481) total time=  15.5s\n",
      "[CV 3/5] END clf=GradientBoostingClassifier(), clf__learning_rate=0.5, clf__max_depth=11;, score=(train=1.000, test=0.104) total time=  14.9s\n",
      "[CV 4/5] END clf=GradientBoostingClassifier(), clf__learning_rate=0.5, clf__max_depth=11;, score=(train=1.000, test=0.539) total time=  16.4s\n",
      "[CV 5/5] END clf=GradientBoostingClassifier(), clf__learning_rate=0.5, clf__max_depth=11;, score=(train=1.000, test=0.368) total time=  15.1s\n",
      "[CV 1/5] END clf=GradientBoostingClassifier(), clf__learning_rate=0.5, clf__max_depth=12;, score=(train=1.000, test=0.197) total time=  17.6s\n",
      "[CV 2/5] END clf=GradientBoostingClassifier(), clf__learning_rate=0.5, clf__max_depth=12;, score=(train=1.000, test=0.470) total time=  17.8s\n",
      "[CV 3/5] END clf=GradientBoostingClassifier(), clf__learning_rate=0.5, clf__max_depth=12;, score=(train=1.000, test=0.096) total time=  16.8s\n",
      "[CV 4/5] END clf=GradientBoostingClassifier(), clf__learning_rate=0.5, clf__max_depth=12;, score=(train=1.000, test=0.540) total time=  16.9s\n",
      "[CV 5/5] END clf=GradientBoostingClassifier(), clf__learning_rate=0.5, clf__max_depth=12;, score=(train=1.000, test=0.347) total time=  16.6s\n",
      "[CV 1/5] END clf=GradientBoostingClassifier(), clf__learning_rate=0.5, clf__max_depth=13;, score=(train=1.000, test=0.199) total time=  19.7s\n",
      "[CV 2/5] END clf=GradientBoostingClassifier(), clf__learning_rate=0.5, clf__max_depth=13;, score=(train=1.000, test=0.475) total time=  19.9s\n",
      "[CV 3/5] END clf=GradientBoostingClassifier(), clf__learning_rate=0.5, clf__max_depth=13;, score=(train=1.000, test=0.087) total time=  19.5s\n",
      "[CV 4/5] END clf=GradientBoostingClassifier(), clf__learning_rate=0.5, clf__max_depth=13;, score=(train=1.000, test=0.520) total time=  20.1s\n",
      "[CV 5/5] END clf=GradientBoostingClassifier(), clf__learning_rate=0.5, clf__max_depth=13;, score=(train=1.000, test=0.336) total time=  19.0s\n",
      "[CV 1/5] END clf=GradientBoostingClassifier(), clf__learning_rate=0.5, clf__max_depth=14;, score=(train=1.000, test=0.188) total time=  21.8s\n",
      "[CV 2/5] END clf=GradientBoostingClassifier(), clf__learning_rate=0.5, clf__max_depth=14;, score=(train=1.000, test=0.441) total time=  22.3s\n",
      "[CV 3/5] END clf=GradientBoostingClassifier(), clf__learning_rate=0.5, clf__max_depth=14;, score=(train=1.000, test=0.078) total time=  21.7s\n",
      "[CV 4/5] END clf=GradientBoostingClassifier(), clf__learning_rate=0.5, clf__max_depth=14;, score=(train=1.000, test=0.512) total time=  22.2s\n",
      "[CV 5/5] END clf=GradientBoostingClassifier(), clf__learning_rate=0.5, clf__max_depth=14;, score=(train=1.000, test=0.322) total time=  20.8s\n",
      "[CV 1/5] END clf=GradientBoostingClassifier(), clf__learning_rate=0.5, clf__max_depth=15;, score=(train=1.000, test=0.157) total time=  24.2s\n",
      "[CV 2/5] END clf=GradientBoostingClassifier(), clf__learning_rate=0.5, clf__max_depth=15;, score=(train=1.000, test=0.452) total time=  25.7s\n",
      "[CV 3/5] END clf=GradientBoostingClassifier(), clf__learning_rate=0.5, clf__max_depth=15;, score=(train=1.000, test=0.076) total time=  23.9s\n",
      "[CV 4/5] END clf=GradientBoostingClassifier(), clf__learning_rate=0.5, clf__max_depth=15;, score=(train=1.000, test=0.529) total time=  24.4s\n",
      "[CV 5/5] END clf=GradientBoostingClassifier(), clf__learning_rate=0.5, clf__max_depth=15;, score=(train=1.000, test=0.298) total time=  23.9s\n",
      "[CV 1/5] END clf=GradientBoostingClassifier(), clf__learning_rate=1.0, clf__max_depth=5;, score=(train=0.990, test=0.236) total time=   5.1s\n",
      "[CV 2/5] END clf=GradientBoostingClassifier(), clf__learning_rate=1.0, clf__max_depth=5;, score=(train=0.989, test=0.473) total time=   5.1s\n",
      "[CV 3/5] END clf=GradientBoostingClassifier(), clf__learning_rate=1.0, clf__max_depth=5;, score=(train=0.994, test=0.146) total time=   5.1s\n",
      "[CV 4/5] END clf=GradientBoostingClassifier(), clf__learning_rate=1.0, clf__max_depth=5;, score=(train=0.986, test=0.575) total time=   5.1s\n",
      "[CV 5/5] END clf=GradientBoostingClassifier(), clf__learning_rate=1.0, clf__max_depth=5;, score=(train=0.987, test=0.421) total time=   5.4s\n",
      "[CV 1/5] END clf=GradientBoostingClassifier(), clf__learning_rate=1.0, clf__max_depth=6;, score=(train=0.996, test=0.243) total time=   6.2s\n",
      "[CV 2/5] END clf=GradientBoostingClassifier(), clf__learning_rate=1.0, clf__max_depth=6;, score=(train=0.995, test=0.489) total time=   6.3s\n",
      "[CV 3/5] END clf=GradientBoostingClassifier(), clf__learning_rate=1.0, clf__max_depth=6;, score=(train=0.999, test=0.116) total time=   6.2s\n",
      "[CV 4/5] END clf=GradientBoostingClassifier(), clf__learning_rate=1.0, clf__max_depth=6;, score=(train=0.995, test=0.565) total time=   6.3s\n",
      "[CV 5/5] END clf=GradientBoostingClassifier(), clf__learning_rate=1.0, clf__max_depth=6;, score=(train=0.994, test=0.401) total time=   6.3s\n",
      "[CV 1/5] END clf=GradientBoostingClassifier(), clf__learning_rate=1.0, clf__max_depth=7;, score=(train=0.999, test=0.218) total time=   7.5s\n",
      "[CV 2/5] END clf=GradientBoostingClassifier(), clf__learning_rate=1.0, clf__max_depth=7;, score=(train=0.998, test=0.472) total time=   7.7s\n",
      "[CV 3/5] END clf=GradientBoostingClassifier(), clf__learning_rate=1.0, clf__max_depth=7;, score=(train=1.000, test=0.109) total time=   7.6s\n",
      "[CV 4/5] END clf=GradientBoostingClassifier(), clf__learning_rate=1.0, clf__max_depth=7;, score=(train=0.998, test=0.562) total time=   7.6s\n",
      "[CV 5/5] END clf=GradientBoostingClassifier(), clf__learning_rate=1.0, clf__max_depth=7;, score=(train=0.996, test=0.393) total time=   7.4s\n",
      "[CV 1/5] END clf=GradientBoostingClassifier(), clf__learning_rate=1.0, clf__max_depth=8;, score=(train=1.000, test=0.224) total time=   8.9s\n",
      "[CV 2/5] END clf=GradientBoostingClassifier(), clf__learning_rate=1.0, clf__max_depth=8;, score=(train=0.999, test=0.462) total time=   9.0s\n",
      "[CV 3/5] END clf=GradientBoostingClassifier(), clf__learning_rate=1.0, clf__max_depth=8;, score=(train=1.000, test=0.112) total time=   8.8s\n",
      "[CV 4/5] END clf=GradientBoostingClassifier(), clf__learning_rate=1.0, clf__max_depth=8;, score=(train=0.999, test=0.516) total time=   9.0s\n",
      "[CV 5/5] END clf=GradientBoostingClassifier(), clf__learning_rate=1.0, clf__max_depth=8;, score=(train=0.999, test=0.409) total time=   9.0s\n",
      "[CV 1/5] END clf=GradientBoostingClassifier(), clf__learning_rate=1.0, clf__max_depth=9;, score=(train=1.000, test=0.198) total time=  10.7s\n",
      "[CV 2/5] END clf=GradientBoostingClassifier(), clf__learning_rate=1.0, clf__max_depth=9;, score=(train=1.000, test=0.473) total time=  10.6s\n",
      "[CV 3/5] END clf=GradientBoostingClassifier(), clf__learning_rate=1.0, clf__max_depth=9;, score=(train=1.000, test=0.109) total time=  10.4s\n",
      "[CV 4/5] END clf=GradientBoostingClassifier(), clf__learning_rate=1.0, clf__max_depth=9;, score=(train=1.000, test=0.531) total time=  10.6s\n",
      "[CV 5/5] END clf=GradientBoostingClassifier(), clf__learning_rate=1.0, clf__max_depth=9;, score=(train=1.000, test=0.369) total time=  10.4s\n",
      "[CV 1/5] END clf=GradientBoostingClassifier(), clf__learning_rate=1.0, clf__max_depth=10;, score=(train=1.000, test=0.227) total time=  12.4s\n",
      "[CV 2/5] END clf=GradientBoostingClassifier(), clf__learning_rate=1.0, clf__max_depth=10;, score=(train=1.000, test=0.448) total time=  12.6s\n",
      "[CV 3/5] END clf=GradientBoostingClassifier(), clf__learning_rate=1.0, clf__max_depth=10;, score=(train=1.000, test=0.114) total time=  12.3s\n",
      "[CV 4/5] END clf=GradientBoostingClassifier(), clf__learning_rate=1.0, clf__max_depth=10;, score=(train=1.000, test=0.542) total time=  12.2s\n",
      "[CV 5/5] END clf=GradientBoostingClassifier(), clf__learning_rate=1.0, clf__max_depth=10;, score=(train=1.000, test=0.377) total time=  12.3s\n",
      "[CV 1/5] END clf=GradientBoostingClassifier(), clf__learning_rate=1.0, clf__max_depth=11;, score=(train=1.000, test=0.209) total time=  14.3s\n",
      "[CV 2/5] END clf=GradientBoostingClassifier(), clf__learning_rate=1.0, clf__max_depth=11;, score=(train=1.000, test=0.455) total time=  14.5s\n",
      "[CV 3/5] END clf=GradientBoostingClassifier(), clf__learning_rate=1.0, clf__max_depth=11;, score=(train=1.000, test=0.105) total time=  13.8s\n",
      "[CV 4/5] END clf=GradientBoostingClassifier(), clf__learning_rate=1.0, clf__max_depth=11;, score=(train=1.000, test=0.547) total time=  13.9s\n",
      "[CV 5/5] END clf=GradientBoostingClassifier(), clf__learning_rate=1.0, clf__max_depth=11;, score=(train=1.000, test=0.351) total time=  13.7s\n",
      "[CV 1/5] END clf=GradientBoostingClassifier(), clf__learning_rate=1.0, clf__max_depth=12;, score=(train=1.000, test=0.183) total time=  16.1s\n",
      "[CV 2/5] END clf=GradientBoostingClassifier(), clf__learning_rate=1.0, clf__max_depth=12;, score=(train=1.000, test=0.458) total time=  16.2s\n",
      "[CV 3/5] END clf=GradientBoostingClassifier(), clf__learning_rate=1.0, clf__max_depth=12;, score=(train=1.000, test=0.106) total time=  15.8s\n",
      "[CV 4/5] END clf=GradientBoostingClassifier(), clf__learning_rate=1.0, clf__max_depth=12;, score=(train=1.000, test=0.531) total time=  15.8s\n",
      "[CV 5/5] END clf=GradientBoostingClassifier(), clf__learning_rate=1.0, clf__max_depth=12;, score=(train=1.000, test=0.354) total time=  15.4s\n",
      "[CV 1/5] END clf=GradientBoostingClassifier(), clf__learning_rate=1.0, clf__max_depth=13;, score=(train=1.000, test=0.189) total time=  18.1s\n",
      "[CV 2/5] END clf=GradientBoostingClassifier(), clf__learning_rate=1.0, clf__max_depth=13;, score=(train=1.000, test=0.468) total time=  18.2s\n",
      "[CV 3/5] END clf=GradientBoostingClassifier(), clf__learning_rate=1.0, clf__max_depth=13;, score=(train=1.000, test=0.094) total time=  18.2s\n",
      "[CV 4/5] END clf=GradientBoostingClassifier(), clf__learning_rate=1.0, clf__max_depth=13;, score=(train=1.000, test=0.511) total time=  18.0s\n",
      "[CV 5/5] END clf=GradientBoostingClassifier(), clf__learning_rate=1.0, clf__max_depth=13;, score=(train=1.000, test=0.321) total time=  17.4s\n",
      "[CV 1/5] END clf=GradientBoostingClassifier(), clf__learning_rate=1.0, clf__max_depth=14;, score=(train=1.000, test=0.189) total time=  20.6s\n",
      "[CV 2/5] END clf=GradientBoostingClassifier(), clf__learning_rate=1.0, clf__max_depth=14;, score=(train=1.000, test=0.453) total time=  21.3s\n",
      "[CV 3/5] END clf=GradientBoostingClassifier(), clf__learning_rate=1.0, clf__max_depth=14;, score=(train=1.000, test=0.088) total time=  19.9s\n",
      "[CV 4/5] END clf=GradientBoostingClassifier(), clf__learning_rate=1.0, clf__max_depth=14;, score=(train=1.000, test=0.524) total time=  20.2s\n",
      "[CV 5/5] END clf=GradientBoostingClassifier(), clf__learning_rate=1.0, clf__max_depth=14;, score=(train=1.000, test=0.329) total time=  19.6s\n",
      "[CV 1/5] END clf=GradientBoostingClassifier(), clf__learning_rate=1.0, clf__max_depth=15;, score=(train=1.000, test=0.170) total time=  23.1s\n",
      "[CV 2/5] END clf=GradientBoostingClassifier(), clf__learning_rate=1.0, clf__max_depth=15;, score=(train=1.000, test=0.456) total time=  23.8s\n",
      "[CV 3/5] END clf=GradientBoostingClassifier(), clf__learning_rate=1.0, clf__max_depth=15;, score=(train=1.000, test=0.091) total time=  22.6s\n",
      "[CV 4/5] END clf=GradientBoostingClassifier(), clf__learning_rate=1.0, clf__max_depth=15;, score=(train=1.000, test=0.507) total time=  22.2s\n",
      "[CV 5/5] END clf=GradientBoostingClassifier(), clf__learning_rate=1.0, clf__max_depth=15;, score=(train=1.000, test=0.317) total time=  21.5s\n",
      "[CV 1/5] END clf=MultinomialNB(), clf__alpha=1e-05;, score=(train=0.795, test=0.301) total time=   0.0s\n",
      "[CV 2/5] END clf=MultinomialNB(), clf__alpha=1e-05;, score=(train=0.794, test=0.461) total time=   0.0s\n",
      "[CV 3/5] END clf=MultinomialNB(), clf__alpha=1e-05;, score=(train=0.827, test=0.226) total time=   0.0s\n",
      "[CV 4/5] END clf=MultinomialNB(), clf__alpha=1e-05;, score=(train=0.769, test=0.591) total time=   0.0s\n",
      "[CV 5/5] END clf=MultinomialNB(), clf__alpha=1e-05;, score=(train=0.759, test=0.480) total time=   0.0s\n",
      "[CV 1/5] END clf=MultinomialNB(), clf__alpha=0.001;, score=(train=0.795, test=0.313) total time=   0.0s\n",
      "[CV 2/5] END clf=MultinomialNB(), clf__alpha=0.001;, score=(train=0.793, test=0.467) total time=   0.0s\n",
      "[CV 3/5] END clf=MultinomialNB(), clf__alpha=0.001;, score=(train=0.827, test=0.227) total time=   0.0s\n",
      "[CV 4/5] END clf=MultinomialNB(), clf__alpha=0.001;, score=(train=0.768, test=0.606) total time=   0.0s\n",
      "[CV 5/5] END clf=MultinomialNB(), clf__alpha=0.001;, score=(train=0.758, test=0.514) total time=   0.0s\n",
      "[CV 1/5] END clf=MultinomialNB(), clf__alpha=0.1;, score=(train=0.791, test=0.342) total time=   0.0s\n",
      "[CV 2/5] END clf=MultinomialNB(), clf__alpha=0.1;, score=(train=0.788, test=0.483) total time=   0.0s\n",
      "[CV 3/5] END clf=MultinomialNB(), clf__alpha=0.1;, score=(train=0.824, test=0.246) total time=   0.0s\n",
      "[CV 4/5] END clf=MultinomialNB(), clf__alpha=0.1;, score=(train=0.766, test=0.641) total time=   0.0s\n",
      "[CV 5/5] END clf=MultinomialNB(), clf__alpha=0.1;, score=(train=0.753, test=0.604) total time=   0.0s\n",
      "[CV 1/5] END clf=MultinomialNB(), clf__alpha=1.0;, score=(train=0.770, test=0.343) total time=   0.0s\n",
      "[CV 2/5] END clf=MultinomialNB(), clf__alpha=1.0;, score=(train=0.772, test=0.498) total time=   0.0s\n",
      "[CV 3/5] END clf=MultinomialNB(), clf__alpha=1.0;, score=(train=0.808, test=0.235) total time=   0.0s\n",
      "[CV 4/5] END clf=MultinomialNB(), clf__alpha=1.0;, score=(train=0.748, test=0.649) total time=   0.0s\n",
      "[CV 5/5] END clf=MultinomialNB(), clf__alpha=1.0;, score=(train=0.736, test=0.633) total time=   0.0s\n",
      "[CV 1/5] END clf=MultinomialNB(), clf__alpha=10.0;, score=(train=0.701, test=0.051) total time=   0.0s\n",
      "[CV 2/5] END clf=MultinomialNB(), clf__alpha=10.0;, score=(train=0.694, test=0.383) total time=   0.0s\n",
      "[CV 3/5] END clf=MultinomialNB(), clf__alpha=10.0;, score=(train=0.753, test=0.004) total time=   0.0s\n",
      "[CV 4/5] END clf=MultinomialNB(), clf__alpha=10.0;, score=(train=0.700, test=0.520) total time=   0.0s\n",
      "[CV 5/5] END clf=MultinomialNB(), clf__alpha=10.0;, score=(train=0.658, test=0.225) total time=   0.0s\n",
      "[CV 1/5] END clf=MultinomialNB(), clf__alpha=1000.0;, score=(train=0.628, test=0.000) total time=   0.0s\n",
      "[CV 2/5] END clf=MultinomialNB(), clf__alpha=1000.0;, score=(train=0.433, test=0.013) total time=   0.0s\n",
      "[CV 3/5] END clf=MultinomialNB(), clf__alpha=1000.0;, score=(train=0.666, test=0.000) total time=   0.0s\n",
      "[CV 4/5] END clf=MultinomialNB(), clf__alpha=1000.0;, score=(train=0.417, test=0.002) total time=   0.0s\n",
      "[CV 5/5] END clf=MultinomialNB(), clf__alpha=1000.0;, score=(train=0.512, test=0.000) total time=   0.0s\n",
      "[CV 1/5] END clf=MultinomialNB(), clf__alpha=100000.0;, score=(train=0.615, test=0.000) total time=   0.0s\n",
      "[CV 2/5] END clf=MultinomialNB(), clf__alpha=100000.0;, score=(train=0.417, test=0.000) total time=   0.0s\n",
      "[CV 3/5] END clf=MultinomialNB(), clf__alpha=100000.0;, score=(train=0.645, test=0.000) total time=   0.0s\n",
      "[CV 4/5] END clf=MultinomialNB(), clf__alpha=100000.0;, score=(train=0.417, test=0.000) total time=   0.0s\n",
      "[CV 5/5] END clf=MultinomialNB(), clf__alpha=100000.0;, score=(train=0.505, test=0.000) total time=   0.0s\n"
     ]
    },
    {
     "data": {
      "text/html": [
       "<style>#sk-container-id-1 {color: black;}#sk-container-id-1 pre{padding: 0;}#sk-container-id-1 div.sk-toggleable {background-color: white;}#sk-container-id-1 label.sk-toggleable__label {cursor: pointer;display: block;width: 100%;margin-bottom: 0;padding: 0.3em;box-sizing: border-box;text-align: center;}#sk-container-id-1 label.sk-toggleable__label-arrow:before {content: \"▸\";float: left;margin-right: 0.25em;color: #696969;}#sk-container-id-1 label.sk-toggleable__label-arrow:hover:before {color: black;}#sk-container-id-1 div.sk-estimator:hover label.sk-toggleable__label-arrow:before {color: black;}#sk-container-id-1 div.sk-toggleable__content {max-height: 0;max-width: 0;overflow: hidden;text-align: left;background-color: #f0f8ff;}#sk-container-id-1 div.sk-toggleable__content pre {margin: 0.2em;color: black;border-radius: 0.25em;background-color: #f0f8ff;}#sk-container-id-1 input.sk-toggleable__control:checked~div.sk-toggleable__content {max-height: 200px;max-width: 100%;overflow: auto;}#sk-container-id-1 input.sk-toggleable__control:checked~label.sk-toggleable__label-arrow:before {content: \"▾\";}#sk-container-id-1 div.sk-estimator input.sk-toggleable__control:checked~label.sk-toggleable__label {background-color: #d4ebff;}#sk-container-id-1 div.sk-label input.sk-toggleable__control:checked~label.sk-toggleable__label {background-color: #d4ebff;}#sk-container-id-1 input.sk-hidden--visually {border: 0;clip: rect(1px 1px 1px 1px);clip: rect(1px, 1px, 1px, 1px);height: 1px;margin: -1px;overflow: hidden;padding: 0;position: absolute;width: 1px;}#sk-container-id-1 div.sk-estimator {font-family: monospace;background-color: #f0f8ff;border: 1px dotted black;border-radius: 0.25em;box-sizing: border-box;margin-bottom: 0.5em;}#sk-container-id-1 div.sk-estimator:hover {background-color: #d4ebff;}#sk-container-id-1 div.sk-parallel-item::after {content: \"\";width: 100%;border-bottom: 1px solid gray;flex-grow: 1;}#sk-container-id-1 div.sk-label:hover label.sk-toggleable__label {background-color: #d4ebff;}#sk-container-id-1 div.sk-serial::before {content: \"\";position: absolute;border-left: 1px solid gray;box-sizing: border-box;top: 0;bottom: 0;left: 50%;z-index: 0;}#sk-container-id-1 div.sk-serial {display: flex;flex-direction: column;align-items: center;background-color: white;padding-right: 0.2em;padding-left: 0.2em;position: relative;}#sk-container-id-1 div.sk-item {position: relative;z-index: 1;}#sk-container-id-1 div.sk-parallel {display: flex;align-items: stretch;justify-content: center;background-color: white;position: relative;}#sk-container-id-1 div.sk-item::before, #sk-container-id-1 div.sk-parallel-item::before {content: \"\";position: absolute;border-left: 1px solid gray;box-sizing: border-box;top: 0;bottom: 0;left: 50%;z-index: -1;}#sk-container-id-1 div.sk-parallel-item {display: flex;flex-direction: column;z-index: 1;position: relative;background-color: white;}#sk-container-id-1 div.sk-parallel-item:first-child::after {align-self: flex-end;width: 50%;}#sk-container-id-1 div.sk-parallel-item:last-child::after {align-self: flex-start;width: 50%;}#sk-container-id-1 div.sk-parallel-item:only-child::after {width: 0;}#sk-container-id-1 div.sk-dashed-wrapped {border: 1px dashed gray;margin: 0 0.4em 0.5em 0.4em;box-sizing: border-box;padding-bottom: 0.4em;background-color: white;}#sk-container-id-1 div.sk-label label {font-family: monospace;font-weight: bold;display: inline-block;line-height: 1.2em;}#sk-container-id-1 div.sk-label-container {text-align: center;}#sk-container-id-1 div.sk-container {/* jupyter's `normalize.less` sets `[hidden] { display: none; }` but bootstrap.min.css set `[hidden] { display: none !important; }` so we also need the `!important` here to be able to override the default hidden behavior on the sphinx rendered scikit-learn.org. See: https://github.com/scikit-learn/scikit-learn/issues/21755 */display: inline-block !important;position: relative;}#sk-container-id-1 div.sk-text-repr-fallback {display: none;}</style><div id=\"sk-container-id-1\" class=\"sk-top-container\"><div class=\"sk-text-repr-fallback\"><pre>GridSearchCV(cv=5, error_score=&#x27;raise&#x27;,\n",
       "             estimator=Pipeline(steps=[(&#x27;clf&#x27;, None)]),\n",
       "             param_grid=[{&#x27;clf&#x27;: [LogisticRegression()],\n",
       "                          &#x27;clf__C&#x27;: [1e-05, 0.001, 0.1, 10.0, 1000.0, 100000.0],\n",
       "                          &#x27;clf__penalty&#x27;: [&#x27;l1&#x27;, &#x27;l2&#x27;],\n",
       "                          &#x27;clf__solver&#x27;: [&#x27;liblinear&#x27;]},\n",
       "                         {&#x27;clf&#x27;: [LinearSVC()],\n",
       "                          &#x27;clf__C&#x27;: [1e-05, 0.001, 0.1, 10.0, 1000.0, 100000.0],\n",
       "                          &#x27;clf__dual&#x27;: [False], &#x27;clf__penalty&#x27;: [&#x27;l1&#x27;, &#x27;l2&#x27;]},\n",
       "                         {&#x27;clf&#x27;: [...\n",
       "                          &#x27;clf__n_neighbors&#x27;: [1, 2, 3, 4, 5, 6, 7, 8, 9, 10]},\n",
       "                         {&#x27;clf&#x27;: [RandomForestClassifier()],\n",
       "                          &#x27;clf__max_depth&#x27;: [5, 6, 7, 8, 9, 10, 11, 12, 13, 14,\n",
       "                                             15]},\n",
       "                         {&#x27;clf&#x27;: [GradientBoostingClassifier()],\n",
       "                          &#x27;clf__learning_rate&#x27;: [0.1, 0.5, 1.0],\n",
       "                          &#x27;clf__max_depth&#x27;: [5, 6, 7, 8, 9, 10, 11, 12, 13, 14,\n",
       "                                             15]},\n",
       "                         {&#x27;clf&#x27;: [MultinomialNB()],\n",
       "                          &#x27;clf__alpha&#x27;: [1e-05, 0.001, 0.1, 1.0, 10.0, 1000.0,\n",
       "                                         100000.0]}],\n",
       "             return_train_score=True, scoring=&#x27;accuracy&#x27;, verbose=3)</pre><b>In a Jupyter environment, please rerun this cell to show the HTML representation or trust the notebook. <br />On GitHub, the HTML representation is unable to render, please try loading this page with nbviewer.org.</b></div><div class=\"sk-container\" hidden><div class=\"sk-item sk-dashed-wrapped\"><div class=\"sk-label-container\"><div class=\"sk-label sk-toggleable\"><input class=\"sk-toggleable__control sk-hidden--visually\" id=\"sk-estimator-id-1\" type=\"checkbox\" ><label for=\"sk-estimator-id-1\" class=\"sk-toggleable__label sk-toggleable__label-arrow\">GridSearchCV</label><div class=\"sk-toggleable__content\"><pre>GridSearchCV(cv=5, error_score=&#x27;raise&#x27;,\n",
       "             estimator=Pipeline(steps=[(&#x27;clf&#x27;, None)]),\n",
       "             param_grid=[{&#x27;clf&#x27;: [LogisticRegression()],\n",
       "                          &#x27;clf__C&#x27;: [1e-05, 0.001, 0.1, 10.0, 1000.0, 100000.0],\n",
       "                          &#x27;clf__penalty&#x27;: [&#x27;l1&#x27;, &#x27;l2&#x27;],\n",
       "                          &#x27;clf__solver&#x27;: [&#x27;liblinear&#x27;]},\n",
       "                         {&#x27;clf&#x27;: [LinearSVC()],\n",
       "                          &#x27;clf__C&#x27;: [1e-05, 0.001, 0.1, 10.0, 1000.0, 100000.0],\n",
       "                          &#x27;clf__dual&#x27;: [False], &#x27;clf__penalty&#x27;: [&#x27;l1&#x27;, &#x27;l2&#x27;]},\n",
       "                         {&#x27;clf&#x27;: [...\n",
       "                          &#x27;clf__n_neighbors&#x27;: [1, 2, 3, 4, 5, 6, 7, 8, 9, 10]},\n",
       "                         {&#x27;clf&#x27;: [RandomForestClassifier()],\n",
       "                          &#x27;clf__max_depth&#x27;: [5, 6, 7, 8, 9, 10, 11, 12, 13, 14,\n",
       "                                             15]},\n",
       "                         {&#x27;clf&#x27;: [GradientBoostingClassifier()],\n",
       "                          &#x27;clf__learning_rate&#x27;: [0.1, 0.5, 1.0],\n",
       "                          &#x27;clf__max_depth&#x27;: [5, 6, 7, 8, 9, 10, 11, 12, 13, 14,\n",
       "                                             15]},\n",
       "                         {&#x27;clf&#x27;: [MultinomialNB()],\n",
       "                          &#x27;clf__alpha&#x27;: [1e-05, 0.001, 0.1, 1.0, 10.0, 1000.0,\n",
       "                                         100000.0]}],\n",
       "             return_train_score=True, scoring=&#x27;accuracy&#x27;, verbose=3)</pre></div></div></div><div class=\"sk-parallel\"><div class=\"sk-parallel-item\"><div class=\"sk-item\"><div class=\"sk-label-container\"><div class=\"sk-label sk-toggleable\"><input class=\"sk-toggleable__control sk-hidden--visually\" id=\"sk-estimator-id-2\" type=\"checkbox\" ><label for=\"sk-estimator-id-2\" class=\"sk-toggleable__label sk-toggleable__label-arrow\">estimator: Pipeline</label><div class=\"sk-toggleable__content\"><pre>Pipeline(steps=[(&#x27;clf&#x27;, None)])</pre></div></div></div><div class=\"sk-serial\"><div class=\"sk-item\"><div class=\"sk-serial\"><div class=\"sk-item\"><div class=\"sk-estimator sk-toggleable\"><input class=\"sk-toggleable__control sk-hidden--visually\" id=\"sk-estimator-id-3\" type=\"checkbox\" ><label for=\"sk-estimator-id-3\" class=\"sk-toggleable__label sk-toggleable__label-arrow\">None</label><div class=\"sk-toggleable__content\"><pre>None</pre></div></div></div></div></div></div></div></div></div></div></div></div>"
      ],
      "text/plain": [
       "GridSearchCV(cv=5, error_score='raise',\n",
       "             estimator=Pipeline(steps=[('clf', None)]),\n",
       "             param_grid=[{'clf': [LogisticRegression()],\n",
       "                          'clf__C': [1e-05, 0.001, 0.1, 10.0, 1000.0, 100000.0],\n",
       "                          'clf__penalty': ['l1', 'l2'],\n",
       "                          'clf__solver': ['liblinear']},\n",
       "                         {'clf': [LinearSVC()],\n",
       "                          'clf__C': [1e-05, 0.001, 0.1, 10.0, 1000.0, 100000.0],\n",
       "                          'clf__dual': [False], 'clf__penalty': ['l1', 'l2']},\n",
       "                         {'clf': [...\n",
       "                          'clf__n_neighbors': [1, 2, 3, 4, 5, 6, 7, 8, 9, 10]},\n",
       "                         {'clf': [RandomForestClassifier()],\n",
       "                          'clf__max_depth': [5, 6, 7, 8, 9, 10, 11, 12, 13, 14,\n",
       "                                             15]},\n",
       "                         {'clf': [GradientBoostingClassifier()],\n",
       "                          'clf__learning_rate': [0.1, 0.5, 1.0],\n",
       "                          'clf__max_depth': [5, 6, 7, 8, 9, 10, 11, 12, 13, 14,\n",
       "                                             15]},\n",
       "                         {'clf': [MultinomialNB()],\n",
       "                          'clf__alpha': [1e-05, 0.001, 0.1, 1.0, 10.0, 1000.0,\n",
       "                                         100000.0]}],\n",
       "             return_train_score=True, scoring='accuracy', verbose=3)"
      ]
     },
     "execution_count": 25,
     "metadata": {},
     "output_type": "execute_result"
    }
   ],
   "source": [
    "C_range = [1.e-05, 1.e-03, 1.e-01, 1.e+01, 1.e+03, 1.e+05]\n",
    "alpha_range = [1.e-05, 1.e-03, 1.e-01, 1.0, 1.e+01, 1.e+03, 1.e+05]\n",
    "max_depth_range = [5, 6, 7, 8, 9, 10, 11, 12, 13, 14, 15]\n",
    "learning_rate_range = [0.1, 0.5, 1.0]\n",
    "n_neighbor_range = [1, 2, 3, 4, 5, 6, 7, 8, 9, 10]\n",
    "\n",
    "pipe = Pipeline([('clf', None)])\n",
    "\n",
    "param_grid = [\n",
    "    {'clf': [LogisticRegression()],\n",
    "     'clf__penalty': ['l1', 'l2'],\n",
    "     'clf__C': C_range, \n",
    "     'clf__solver': ['liblinear']},\n",
    "\n",
    "    {'clf': [LinearSVC()], \n",
    "     'clf__penalty': ['l1', 'l2'],\n",
    "     'clf__C': C_range, \n",
    "     'clf__dual': [False]},\n",
    "\n",
    "    {'clf': [KNeighborsClassifier()],\n",
    "     'clf__n_neighbors': n_neighbor_range},\n",
    "\n",
    "    {'clf': [RandomForestClassifier()],\n",
    "     'clf__max_depth': max_depth_range},\n",
    "\n",
    "    {'clf': [GradientBoostingClassifier()],\n",
    "     'clf__learning_rate': learning_rate_range,\n",
    "     'clf__max_depth': max_depth_range},\n",
    "\n",
    "    {'clf': [MultinomialNB()],\n",
    "     'clf__alpha': alpha_range,\n",
    "    }\n",
    "]\n",
    "\n",
    "grid_search = GridSearchCV(pipe, param_grid, cv=5, return_train_score=True,\n",
    "                           scoring='accuracy', verbose=3, error_score='raise')\n",
    "grid_search.fit(X_resampled_countvec, y_resampled)"
   ]
  },
  {
   "cell_type": "markdown",
   "id": "e4e5c833-5bff-4369-bdc8-9270c45d2b36",
   "metadata": {
    "tags": []
   },
   "source": [
    "<h4 style='color:#3AB85C'>Best Scores per Model</h4>"
   ]
  },
  {
   "cell_type": "code",
   "execution_count": 26,
   "id": "03730fda-74c5-473e-aa15-3a57bfd655ce",
   "metadata": {
    "execution": {
     "iopub.execute_input": "2023-12-09T06:09:33.850511Z",
     "iopub.status.busy": "2023-12-09T06:09:33.849718Z",
     "iopub.status.idle": "2023-12-09T06:09:33.901424Z",
     "shell.execute_reply": "2023-12-09T06:09:33.900389Z",
     "shell.execute_reply.started": "2023-12-09T06:09:33.850434Z"
    },
    "tags": []
   },
   "outputs": [
    {
     "data": {
      "text/html": [
       "<div>\n",
       "<style scoped>\n",
       "    .dataframe tbody tr th:only-of-type {\n",
       "        vertical-align: middle;\n",
       "    }\n",
       "\n",
       "    .dataframe tbody tr th {\n",
       "        vertical-align: top;\n",
       "    }\n",
       "\n",
       "    .dataframe thead th {\n",
       "        text-align: right;\n",
       "    }\n",
       "</style>\n",
       "<table border=\"1\" class=\"dataframe\">\n",
       "  <thead>\n",
       "    <tr style=\"text-align: right;\">\n",
       "      <th></th>\n",
       "      <th>param_clf</th>\n",
       "      <th>rank_test_score</th>\n",
       "      <th>mean_test_score</th>\n",
       "      <th>mean_train_score</th>\n",
       "      <th>mean_fit_time</th>\n",
       "      <th>mean_score_time</th>\n",
       "    </tr>\n",
       "  </thead>\n",
       "  <tbody>\n",
       "    <tr>\n",
       "      <th>81</th>\n",
       "      <td>MultinomialNB()</td>\n",
       "      <td>1</td>\n",
       "      <td>0.471457</td>\n",
       "      <td>0.766831</td>\n",
       "      <td>0.002994</td>\n",
       "      <td>0.001374</td>\n",
       "    </tr>\n",
       "    <tr>\n",
       "      <th>7</th>\n",
       "      <td>LogisticRegression()</td>\n",
       "      <td>4</td>\n",
       "      <td>0.423049</td>\n",
       "      <td>0.929494</td>\n",
       "      <td>0.395127</td>\n",
       "      <td>0.001513</td>\n",
       "    </tr>\n",
       "    <tr>\n",
       "      <th>19</th>\n",
       "      <td>LinearSVC()</td>\n",
       "      <td>5</td>\n",
       "      <td>0.420681</td>\n",
       "      <td>0.962382</td>\n",
       "      <td>2.630117</td>\n",
       "      <td>0.001585</td>\n",
       "    </tr>\n",
       "    <tr>\n",
       "      <th>67</th>\n",
       "      <td>GradientBoostingClassifier()</td>\n",
       "      <td>18</td>\n",
       "      <td>0.370294</td>\n",
       "      <td>0.989083</td>\n",
       "      <td>5.158388</td>\n",
       "      <td>0.009540</td>\n",
       "    </tr>\n",
       "    <tr>\n",
       "      <th>24</th>\n",
       "      <td>KNeighborsClassifier()</td>\n",
       "      <td>54</td>\n",
       "      <td>0.302572</td>\n",
       "      <td>1.000000</td>\n",
       "      <td>0.003242</td>\n",
       "      <td>0.250982</td>\n",
       "    </tr>\n",
       "    <tr>\n",
       "      <th>44</th>\n",
       "      <td>RandomForestClassifier()</td>\n",
       "      <td>68</td>\n",
       "      <td>0.144859</td>\n",
       "      <td>0.778975</td>\n",
       "      <td>0.606247</td>\n",
       "      <td>0.035438</td>\n",
       "    </tr>\n",
       "  </tbody>\n",
       "</table>\n",
       "</div>"
      ],
      "text/plain": [
       "                       param_clf  rank_test_score  mean_test_score  \\\n",
       "81               MultinomialNB()                1         0.471457   \n",
       "7           LogisticRegression()                4         0.423049   \n",
       "19                   LinearSVC()                5         0.420681   \n",
       "67  GradientBoostingClassifier()               18         0.370294   \n",
       "24        KNeighborsClassifier()               54         0.302572   \n",
       "44      RandomForestClassifier()               68         0.144859   \n",
       "\n",
       "    mean_train_score  mean_fit_time  mean_score_time  \n",
       "81          0.766831       0.002994         0.001374  \n",
       "7           0.929494       0.395127         0.001513  \n",
       "19          0.962382       2.630117         0.001585  \n",
       "67          0.989083       5.158388         0.009540  \n",
       "24          1.000000       0.003242         0.250982  \n",
       "44          0.778975       0.606247         0.035438  "
      ]
     },
     "execution_count": 26,
     "metadata": {},
     "output_type": "execute_result"
    }
   ],
   "source": [
    "grid_df = pd.DataFrame(grid_search.cv_results_)\n",
    "grid_df['param_clf'] = grid_df['param_clf'].astype(str)\n",
    "per_model = grid_df.loc[grid_df.groupby('param_clf')['rank_test_score'].idxmin()]\n",
    "\n",
    "per_model[\n",
    "    ['param_clf', 'rank_test_score', 'mean_test_score', 'mean_train_score',\n",
    "     'mean_fit_time', 'mean_score_time']\n",
    "].sort_values(by='rank_test_score')"
   ]
  },
  {
   "cell_type": "markdown",
   "id": "2de07a8f-4341-4d33-9340-5c588a29f6ff",
   "metadata": {},
   "source": [
    "<center><i>Table 5. Best scores per model via Grid Search results<i></center>"
   ]
  },
  {
   "cell_type": "markdown",
   "id": "cd1d76a8-1177-4622-836c-a360a4d4571c",
   "metadata": {},
   "source": [
    "<h4 style='color:#3AB85C'>Best Model to Use</h4>"
   ]
  },
  {
   "cell_type": "code",
   "execution_count": 27,
   "id": "043754dd-050d-474d-995c-6e3ff31df059",
   "metadata": {
    "execution": {
     "iopub.execute_input": "2023-12-09T06:09:39.764733Z",
     "iopub.status.busy": "2023-12-09T06:09:39.763947Z",
     "iopub.status.idle": "2023-12-09T06:09:39.774785Z",
     "shell.execute_reply": "2023-12-09T06:09:39.772800Z",
     "shell.execute_reply.started": "2023-12-09T06:09:39.764667Z"
    },
    "tags": []
   },
   "outputs": [
    {
     "name": "stdout",
     "output_type": "stream",
     "text": [
      "The best model is: {'clf': MultinomialNB(), 'clf__alpha': 1.0}\n",
      "with an accuracy score of: 0.47145719248903967\n"
     ]
    }
   ],
   "source": [
    "print(f\"The best model is: {grid_search.best_params_}\")\n",
    "print(f\"with an accuracy score of: {grid_search.best_score_}\")"
   ]
  },
  {
   "cell_type": "markdown",
   "id": "c23c8880-5c64-4907-8f0c-3be3944d04e0",
   "metadata": {},
   "source": [
    "<h3 style='color:#8E77F8'>Train and Test: Multinomial Naive Bayes</h3>\n",
    "\n",
    "The resulting best model from GridSearch was the Multinomial Naive Bayes model with alpha=1. This was used to train and test the dataset."
   ]
  },
  {
   "cell_type": "markdown",
   "id": "8233517f-4fcd-4032-b7e1-e2ac6a5e2092",
   "metadata": {},
   "source": [
    "<h4 style='color:#3AB85C'>Fit</h4>"
   ]
  },
  {
   "cell_type": "code",
   "execution_count": 28,
   "id": "c8f0824d-4ab6-4542-b381-64b18147837c",
   "metadata": {
    "execution": {
     "iopub.execute_input": "2023-12-09T06:09:45.310922Z",
     "iopub.status.busy": "2023-12-09T06:09:45.310173Z",
     "iopub.status.idle": "2023-12-09T06:09:45.329819Z",
     "shell.execute_reply": "2023-12-09T06:09:45.328675Z",
     "shell.execute_reply.started": "2023-12-09T06:09:45.310859Z"
    },
    "tags": []
   },
   "outputs": [
    {
     "data": {
      "text/html": [
       "<style>#sk-container-id-2 {color: black;}#sk-container-id-2 pre{padding: 0;}#sk-container-id-2 div.sk-toggleable {background-color: white;}#sk-container-id-2 label.sk-toggleable__label {cursor: pointer;display: block;width: 100%;margin-bottom: 0;padding: 0.3em;box-sizing: border-box;text-align: center;}#sk-container-id-2 label.sk-toggleable__label-arrow:before {content: \"▸\";float: left;margin-right: 0.25em;color: #696969;}#sk-container-id-2 label.sk-toggleable__label-arrow:hover:before {color: black;}#sk-container-id-2 div.sk-estimator:hover label.sk-toggleable__label-arrow:before {color: black;}#sk-container-id-2 div.sk-toggleable__content {max-height: 0;max-width: 0;overflow: hidden;text-align: left;background-color: #f0f8ff;}#sk-container-id-2 div.sk-toggleable__content pre {margin: 0.2em;color: black;border-radius: 0.25em;background-color: #f0f8ff;}#sk-container-id-2 input.sk-toggleable__control:checked~div.sk-toggleable__content {max-height: 200px;max-width: 100%;overflow: auto;}#sk-container-id-2 input.sk-toggleable__control:checked~label.sk-toggleable__label-arrow:before {content: \"▾\";}#sk-container-id-2 div.sk-estimator input.sk-toggleable__control:checked~label.sk-toggleable__label {background-color: #d4ebff;}#sk-container-id-2 div.sk-label input.sk-toggleable__control:checked~label.sk-toggleable__label {background-color: #d4ebff;}#sk-container-id-2 input.sk-hidden--visually {border: 0;clip: rect(1px 1px 1px 1px);clip: rect(1px, 1px, 1px, 1px);height: 1px;margin: -1px;overflow: hidden;padding: 0;position: absolute;width: 1px;}#sk-container-id-2 div.sk-estimator {font-family: monospace;background-color: #f0f8ff;border: 1px dotted black;border-radius: 0.25em;box-sizing: border-box;margin-bottom: 0.5em;}#sk-container-id-2 div.sk-estimator:hover {background-color: #d4ebff;}#sk-container-id-2 div.sk-parallel-item::after {content: \"\";width: 100%;border-bottom: 1px solid gray;flex-grow: 1;}#sk-container-id-2 div.sk-label:hover label.sk-toggleable__label {background-color: #d4ebff;}#sk-container-id-2 div.sk-serial::before {content: \"\";position: absolute;border-left: 1px solid gray;box-sizing: border-box;top: 0;bottom: 0;left: 50%;z-index: 0;}#sk-container-id-2 div.sk-serial {display: flex;flex-direction: column;align-items: center;background-color: white;padding-right: 0.2em;padding-left: 0.2em;position: relative;}#sk-container-id-2 div.sk-item {position: relative;z-index: 1;}#sk-container-id-2 div.sk-parallel {display: flex;align-items: stretch;justify-content: center;background-color: white;position: relative;}#sk-container-id-2 div.sk-item::before, #sk-container-id-2 div.sk-parallel-item::before {content: \"\";position: absolute;border-left: 1px solid gray;box-sizing: border-box;top: 0;bottom: 0;left: 50%;z-index: -1;}#sk-container-id-2 div.sk-parallel-item {display: flex;flex-direction: column;z-index: 1;position: relative;background-color: white;}#sk-container-id-2 div.sk-parallel-item:first-child::after {align-self: flex-end;width: 50%;}#sk-container-id-2 div.sk-parallel-item:last-child::after {align-self: flex-start;width: 50%;}#sk-container-id-2 div.sk-parallel-item:only-child::after {width: 0;}#sk-container-id-2 div.sk-dashed-wrapped {border: 1px dashed gray;margin: 0 0.4em 0.5em 0.4em;box-sizing: border-box;padding-bottom: 0.4em;background-color: white;}#sk-container-id-2 div.sk-label label {font-family: monospace;font-weight: bold;display: inline-block;line-height: 1.2em;}#sk-container-id-2 div.sk-label-container {text-align: center;}#sk-container-id-2 div.sk-container {/* jupyter's `normalize.less` sets `[hidden] { display: none; }` but bootstrap.min.css set `[hidden] { display: none !important; }` so we also need the `!important` here to be able to override the default hidden behavior on the sphinx rendered scikit-learn.org. See: https://github.com/scikit-learn/scikit-learn/issues/21755 */display: inline-block !important;position: relative;}#sk-container-id-2 div.sk-text-repr-fallback {display: none;}</style><div id=\"sk-container-id-2\" class=\"sk-top-container\"><div class=\"sk-text-repr-fallback\"><pre>MultinomialNB(alpha=1)</pre><b>In a Jupyter environment, please rerun this cell to show the HTML representation or trust the notebook. <br />On GitHub, the HTML representation is unable to render, please try loading this page with nbviewer.org.</b></div><div class=\"sk-container\" hidden><div class=\"sk-item\"><div class=\"sk-estimator sk-toggleable\"><input class=\"sk-toggleable__control sk-hidden--visually\" id=\"sk-estimator-id-4\" type=\"checkbox\" checked><label for=\"sk-estimator-id-4\" class=\"sk-toggleable__label sk-toggleable__label-arrow\">MultinomialNB</label><div class=\"sk-toggleable__content\"><pre>MultinomialNB(alpha=1)</pre></div></div></div></div></div>"
      ],
      "text/plain": [
       "MultinomialNB(alpha=1)"
      ]
     },
     "execution_count": 28,
     "metadata": {},
     "output_type": "execute_result"
    }
   ],
   "source": [
    "reg = MultinomialNB(alpha=1)\n",
    "reg.fit(X_resampled_countvec, y_resampled)"
   ]
  },
  {
   "cell_type": "markdown",
   "id": "c066d387-2d58-4223-a5f6-33e5bebe03b9",
   "metadata": {},
   "source": [
    "<h4 style='color:#3AB85C'>Score</h4>"
   ]
  },
  {
   "cell_type": "code",
   "execution_count": 29,
   "id": "87476c8b-dc4a-45f9-bc41-102aab03fc14",
   "metadata": {
    "execution": {
     "iopub.execute_input": "2023-12-09T06:09:48.850474Z",
     "iopub.status.busy": "2023-12-09T06:09:48.849733Z",
     "iopub.status.idle": "2023-12-09T06:09:48.868331Z",
     "shell.execute_reply": "2023-12-09T06:09:48.867374Z",
     "shell.execute_reply.started": "2023-12-09T06:09:48.850409Z"
    },
    "tags": []
   },
   "outputs": [
    {
     "name": "stdout",
     "output_type": "stream",
     "text": [
      "Train Score: 0.738901018922853\n",
      "Test Score: 0.6992713623316406\n"
     ]
    }
   ],
   "source": [
    "reg_train_score = reg.score(X_resampled_countvec, y_resampled)\n",
    "reg_test_score = reg.score(X_test_countvec, y_test)\n",
    "\n",
    "print(f'Train Score: {reg_train_score}')\n",
    "print(f'Test Score: {reg_test_score}')"
   ]
  },
  {
   "cell_type": "markdown",
   "id": "1d5121d1-7976-47a6-8231-91dbf3cec8a4",
   "metadata": {},
   "source": [
    "<h4 style='color:#3AB85C'>Top 10 Features</h4>"
   ]
  },
  {
   "cell_type": "code",
   "execution_count": 32,
   "id": "b4807e14-1edb-40fe-87fe-107284eafdf6",
   "metadata": {
    "execution": {
     "iopub.execute_input": "2023-12-09T06:10:41.423063Z",
     "iopub.status.busy": "2023-12-09T06:10:41.422316Z",
     "iopub.status.idle": "2023-12-09T06:10:41.450494Z",
     "shell.execute_reply": "2023-12-09T06:10:41.448525Z",
     "shell.execute_reply.started": "2023-12-09T06:10:41.422997Z"
    },
    "tags": []
   },
   "outputs": [
    {
     "data": {
      "text/html": [
       "<div>\n",
       "<style scoped>\n",
       "    .dataframe tbody tr th:only-of-type {\n",
       "        vertical-align: middle;\n",
       "    }\n",
       "\n",
       "    .dataframe tbody tr th {\n",
       "        vertical-align: top;\n",
       "    }\n",
       "\n",
       "    .dataframe thead th {\n",
       "        text-align: right;\n",
       "    }\n",
       "</style>\n",
       "<table border=\"1\" class=\"dataframe\">\n",
       "  <thead>\n",
       "    <tr style=\"text-align: right;\">\n",
       "      <th></th>\n",
       "      <th>Top Feature</th>\n",
       "      <th>Sentiment</th>\n",
       "    </tr>\n",
       "  </thead>\n",
       "  <tbody>\n",
       "    <tr>\n",
       "      <th>0</th>\n",
       "      <td>color</td>\n",
       "      <td>Neutral</td>\n",
       "    </tr>\n",
       "    <tr>\n",
       "      <th>1</th>\n",
       "      <td>dress</td>\n",
       "      <td>Negative</td>\n",
       "    </tr>\n",
       "    <tr>\n",
       "      <th>2</th>\n",
       "      <td>fabric</td>\n",
       "      <td>Negative</td>\n",
       "    </tr>\n",
       "    <tr>\n",
       "      <th>3</th>\n",
       "      <td>fit</td>\n",
       "      <td>Negative</td>\n",
       "    </tr>\n",
       "    <tr>\n",
       "      <th>4</th>\n",
       "      <td>great</td>\n",
       "      <td>Positive</td>\n",
       "    </tr>\n",
       "    <tr>\n",
       "      <th>5</th>\n",
       "      <td>just</td>\n",
       "      <td>Negative</td>\n",
       "    </tr>\n",
       "    <tr>\n",
       "      <th>6</th>\n",
       "      <td>like</td>\n",
       "      <td>Negative</td>\n",
       "    </tr>\n",
       "    <tr>\n",
       "      <th>7</th>\n",
       "      <td>look</td>\n",
       "      <td>Negative</td>\n",
       "    </tr>\n",
       "    <tr>\n",
       "      <th>8</th>\n",
       "      <td>love</td>\n",
       "      <td>Negative</td>\n",
       "    </tr>\n",
       "    <tr>\n",
       "      <th>9</th>\n",
       "      <td>size</td>\n",
       "      <td>Negative</td>\n",
       "    </tr>\n",
       "  </tbody>\n",
       "</table>\n",
       "</div>"
      ],
      "text/plain": [
       "  Top Feature Sentiment\n",
       "0       color   Neutral\n",
       "1       dress  Negative\n",
       "2      fabric  Negative\n",
       "3         fit  Negative\n",
       "4       great  Positive\n",
       "5        just  Negative\n",
       "6        like  Negative\n",
       "7        look  Negative\n",
       "8        love  Negative\n",
       "9        size  Negative"
      ]
     },
     "execution_count": 32,
     "metadata": {},
     "output_type": "execute_result"
    }
   ],
   "source": [
    "log_probabilities = reg.feature_log_prob_\n",
    "n_top_features = 10\n",
    "\n",
    "# Concatenate feature names with corresponding classes\n",
    "all_features = np.concatenate(\n",
    "    [feature_names[np.argsort(log_probabilities[i])[::-1][:n_top_features]] \\\n",
    "     for i in range(log_probabilities.shape[0])])\n",
    "\n",
    "all_labels = np.concatenate([\n",
    "    ['Negative'] * n_top_features,\n",
    "    ['Neutral'] * n_top_features,\n",
    "    ['Positive'] * n_top_features\n",
    "])\n",
    "\n",
    "# Get the unique top 10 features\n",
    "unique_top_features, indices = np.unique(all_features, return_index=True)\n",
    "top_10_features = unique_top_features[:n_top_features]\n",
    "top_10_labels = all_labels[indices][:n_top_features]\n",
    "\n",
    "reg_top_features = pd.DataFrame({\n",
    "    'Top Feature': top_10_features,\n",
    "    'Sentiment': top_10_labels\n",
    "})\n",
    "reg_top_features"
   ]
  },
  {
   "cell_type": "markdown",
   "id": "71b51229-b6eb-4b20-8a53-554b519d12ed",
   "metadata": {},
   "source": [
    "<center><i>Table 6. Top 10 features for Traditional ML<i></center>"
   ]
  },
  {
   "cell_type": "markdown",
   "id": "d39470a0-e1e5-4bfc-82e5-75d226af3ffb",
   "metadata": {},
   "source": [
    "<h3 style='color:#8E77F8'>Train and Test: TextBlob Naive Bayes</h3>\n",
    "\n",
    "From the TextBlob library the NaiveBayes Classifier is called to train, and then to test the dataset. Because TextBlob only looks for a list of tuples of the text and the target variable, the only data passed to the classifier is the resampled dataset (eg. \"Absolutely wonderful - silky and sexy and comfortable\" - \"positive\"), and not the vectorized dataset."
   ]
  },
  {
   "cell_type": "markdown",
   "id": "bcdc718d-04a6-4ca2-9dac-ed5338d9af79",
   "metadata": {},
   "source": [
    "<h4 style='color:#3AB85C'>Fit</h4>"
   ]
  },
  {
   "cell_type": "code",
   "execution_count": 33,
   "id": "feb70379-37c8-47f1-a7f4-769742f5904e",
   "metadata": {
    "execution": {
     "iopub.execute_input": "2023-12-09T06:11:39.240943Z",
     "iopub.status.busy": "2023-12-09T06:11:39.240152Z",
     "iopub.status.idle": "2023-12-09T06:12:08.219466Z",
     "shell.execute_reply": "2023-12-09T06:12:08.217901Z",
     "shell.execute_reply.started": "2023-12-09T06:11:39.240877Z"
    },
    "tags": []
   },
   "outputs": [],
   "source": [
    "train_df = pd.concat([X_resampled, y_resampled], axis=1)\n",
    "test_df = pd.concat([X_test, y_test], axis=1)\n",
    "\n",
    "# the datasets are turned into a list of tuples\n",
    "train = [(row['Review Text'], row['Sentiment']) \\\n",
    "         for index, row in train_df.iterrows()]\n",
    "test = [(row['Review Text'], row['Sentiment']) \\\n",
    "        for index, row in test_df.iterrows()]\n",
    "\n",
    "# call the classifier\n",
    "tb = NaiveBayesClassifier(train)"
   ]
  },
  {
   "cell_type": "markdown",
   "id": "28c70c94-df4d-4d02-9bb7-ec12a54a9dbb",
   "metadata": {},
   "source": [
    "<h4 style='color:#3AB85C'>Score</h4>"
   ]
  },
  {
   "cell_type": "code",
   "execution_count": 34,
   "id": "2a7aedbc-b52f-46ad-8d6f-5ac2aea8705b",
   "metadata": {
    "execution": {
     "iopub.execute_input": "2023-12-09T06:12:33.904302Z",
     "iopub.status.busy": "2023-12-09T06:12:33.903455Z",
     "iopub.status.idle": "2023-12-09T06:17:41.991969Z",
     "shell.execute_reply": "2023-12-09T06:17:41.991128Z",
     "shell.execute_reply.started": "2023-12-09T06:12:33.904225Z"
    },
    "tags": []
   },
   "outputs": [
    {
     "name": "stdout",
     "output_type": "stream",
     "text": [
      "Train Score: 0.8089519650655022\n",
      "Test Score: 0.6637226760874365\n"
     ]
    }
   ],
   "source": [
    "tb_train_score = tb.accuracy(train)\n",
    "tb_test_score = tb.accuracy(test)\n",
    "\n",
    "print(f'Train Score: {tb_train_score}')\n",
    "print(f'Test Score: {tb_test_score}')"
   ]
  },
  {
   "cell_type": "markdown",
   "id": "6de7dc3e-5ef9-41b4-8d4c-7a8baf1d4839",
   "metadata": {
    "tags": []
   },
   "source": [
    "<h4 style='color:#3AB85C'>Top 10 Features</h4>"
   ]
  },
  {
   "cell_type": "code",
   "execution_count": 35,
   "id": "7710f59d-ef78-488e-90ba-727ffef7e161",
   "metadata": {
    "execution": {
     "iopub.execute_input": "2023-12-09T06:18:59.773552Z",
     "iopub.status.busy": "2023-12-09T06:18:59.772813Z",
     "iopub.status.idle": "2023-12-09T06:18:59.906074Z",
     "shell.execute_reply": "2023-12-09T06:18:59.905208Z",
     "shell.execute_reply.started": "2023-12-09T06:18:59.773487Z"
    },
    "tags": []
   },
   "outputs": [
    {
     "name": "stdout",
     "output_type": "stream",
     "text": [
      "Most Informative Features\n",
      "         contains(awful) = True                1 : 3      =     31.0 : 1.0\n",
      "      contains(horrible) = True                1 : 3      =     17.7 : 1.0\n",
      "         contains(shame) = True                1 : 3      =     17.0 : 1.0\n",
      "        contains(flimsy) = True                1 : 3      =     16.3 : 1.0\n",
      "        contains(highly) = True                3 : 1      =     15.8 : 1.0\n",
      "      contains(occasion) = True                3 : 1      =     15.7 : 1.0\n",
      "          contains(mess) = True                1 : 3      =     15.0 : 1.0\n",
      "  contains(unflattering) = True                1 : 3      =     14.6 : 1.0\n",
      "       contains(justice) = True                3 : 1      =     14.3 : 1.0\n",
      "     contains(literally) = True                1 : 3      =     14.3 : 1.0\n"
     ]
    }
   ],
   "source": [
    "tb.show_informative_features(10)"
   ]
  },
  {
   "cell_type": "markdown",
   "id": "147977b3-4094-48b9-a50b-4e94525e9095",
   "metadata": {},
   "source": [
    "<center><i>Fig. 7. Top 10 features for TextBlob<i></center>"
   ]
  },
  {
   "cell_type": "markdown",
   "id": "a8981fea-da4f-4715-ac5e-4afdb8d23246",
   "metadata": {},
   "source": [
    "<h2 style='color:#35A1F4'>Results and Discussion</h2>"
   ]
  },
  {
   "cell_type": "markdown",
   "id": "50785459-4509-4575-90f9-9983d1f045ba",
   "metadata": {},
   "source": [
    "To measure the performance of each of the models, and to gain an apples-to-apples comparison, the accuracy score of each model is compared. We also output the top 10 features (words) from each model for comparison."
   ]
  },
  {
   "cell_type": "markdown",
   "id": "3ac5b847-affa-492e-811d-b3efcc1125c2",
   "metadata": {},
   "source": [
    "<h3 style='color:#8E77F8'>Model Scores Comparison</h3>"
   ]
  },
  {
   "cell_type": "markdown",
   "id": "4eb9bdcd-a6a8-4592-8d1c-8c8a89b9939a",
   "metadata": {},
   "source": [
    "<h4 style='color:#3AB85C'>Train and Test Scores for Traditional ML and TextBlob Classifier</h4>"
   ]
  },
  {
   "cell_type": "code",
   "execution_count": 36,
   "id": "12e1e3d2-ba3e-4bfe-8f05-bd8c453e9750",
   "metadata": {
    "execution": {
     "iopub.execute_input": "2023-12-09T06:19:05.878157Z",
     "iopub.status.busy": "2023-12-09T06:19:05.877422Z",
     "iopub.status.idle": "2023-12-09T06:19:05.902316Z",
     "shell.execute_reply": "2023-12-09T06:19:05.900506Z",
     "shell.execute_reply.started": "2023-12-09T06:19:05.878094Z"
    },
    "tags": []
   },
   "outputs": [
    {
     "data": {
      "text/html": [
       "<div>\n",
       "<style scoped>\n",
       "    .dataframe tbody tr th:only-of-type {\n",
       "        vertical-align: middle;\n",
       "    }\n",
       "\n",
       "    .dataframe tbody tr th {\n",
       "        vertical-align: top;\n",
       "    }\n",
       "\n",
       "    .dataframe thead th {\n",
       "        text-align: right;\n",
       "    }\n",
       "</style>\n",
       "<table border=\"1\" class=\"dataframe\">\n",
       "  <thead>\n",
       "    <tr style=\"text-align: right;\">\n",
       "      <th></th>\n",
       "      <th>Type</th>\n",
       "      <th>Specific Model</th>\n",
       "      <th>Train Score</th>\n",
       "      <th>Test Score</th>\n",
       "    </tr>\n",
       "  </thead>\n",
       "  <tbody>\n",
       "    <tr>\n",
       "      <th>0</th>\n",
       "      <td>Traditional ML</td>\n",
       "      <td>Multinomial Naive Bayes</td>\n",
       "      <td>0.738901</td>\n",
       "      <td>0.699271</td>\n",
       "    </tr>\n",
       "    <tr>\n",
       "      <th>1</th>\n",
       "      <td>TextBlob</td>\n",
       "      <td>Naive Bayes Classifier</td>\n",
       "      <td>0.808952</td>\n",
       "      <td>0.663723</td>\n",
       "    </tr>\n",
       "  </tbody>\n",
       "</table>\n",
       "</div>"
      ],
      "text/plain": [
       "             Type           Specific Model  Train Score  Test Score\n",
       "0  Traditional ML  Multinomial Naive Bayes     0.738901    0.699271\n",
       "1        TextBlob   Naive Bayes Classifier     0.808952    0.663723"
      ]
     },
     "execution_count": 36,
     "metadata": {},
     "output_type": "execute_result"
    }
   ],
   "source": [
    "data = {\n",
    "    'Type': ['Traditional ML', 'TextBlob'],\n",
    "    'Specific Model': ['Multinomial Naive Bayes', 'Naive Bayes Classifier'],\n",
    "    'Train Score': [reg_train_score, tb_train_score],\n",
    "    'Test Score': [reg_test_score, tb_test_score]\n",
    "}\n",
    "\n",
    "# Creating a DataFrame\n",
    "df_scores = pd.DataFrame(data)\n",
    "\n",
    "df_scores"
   ]
  },
  {
   "cell_type": "markdown",
   "id": "f6ee2c91-0a19-4e64-87a1-0ba50d33eeb4",
   "metadata": {},
   "source": [
    "<center><i>Table 7. Comparitive Scores for Traditional ML and TextBlob<i></center>"
   ]
  },
  {
   "cell_type": "markdown",
   "id": "125b77c3-4beb-4c98-ad19-c6224bd66d2e",
   "metadata": {},
   "source": [
    "<h3 style='color:#8E77F8'>Top 10 Features Comparison</h3>"
   ]
  },
  {
   "cell_type": "markdown",
   "id": "0c665024-ca35-44c5-9cc2-b131448baf1c",
   "metadata": {
    "execution": {
     "iopub.execute_input": "2023-12-09T04:04:23.793362Z",
     "iopub.status.busy": "2023-12-09T04:04:23.792389Z",
     "iopub.status.idle": "2023-12-09T04:04:23.804719Z",
     "shell.execute_reply": "2023-12-09T04:04:23.802082Z",
     "shell.execute_reply.started": "2023-12-09T04:04:23.793299Z"
    },
    "tags": []
   },
   "source": [
    "<h4 style='color:#3AB85C'>Top Features from Traditional ML - Multinomial Naive Bayes</h4>"
   ]
  },
  {
   "cell_type": "code",
   "execution_count": 37,
   "id": "840582b2-4cd8-45b0-9189-7added6c6499",
   "metadata": {
    "execution": {
     "iopub.execute_input": "2023-12-09T06:19:17.462780Z",
     "iopub.status.busy": "2023-12-09T06:19:17.462029Z",
     "iopub.status.idle": "2023-12-09T06:19:17.481270Z",
     "shell.execute_reply": "2023-12-09T06:19:17.479306Z",
     "shell.execute_reply.started": "2023-12-09T06:19:17.462715Z"
    },
    "tags": []
   },
   "outputs": [
    {
     "data": {
      "text/html": [
       "<div>\n",
       "<style scoped>\n",
       "    .dataframe tbody tr th:only-of-type {\n",
       "        vertical-align: middle;\n",
       "    }\n",
       "\n",
       "    .dataframe tbody tr th {\n",
       "        vertical-align: top;\n",
       "    }\n",
       "\n",
       "    .dataframe thead th {\n",
       "        text-align: right;\n",
       "    }\n",
       "</style>\n",
       "<table border=\"1\" class=\"dataframe\">\n",
       "  <thead>\n",
       "    <tr style=\"text-align: right;\">\n",
       "      <th></th>\n",
       "      <th>Top Feature</th>\n",
       "      <th>Sentiment</th>\n",
       "    </tr>\n",
       "  </thead>\n",
       "  <tbody>\n",
       "    <tr>\n",
       "      <th>0</th>\n",
       "      <td>color</td>\n",
       "      <td>Neutral</td>\n",
       "    </tr>\n",
       "    <tr>\n",
       "      <th>1</th>\n",
       "      <td>dress</td>\n",
       "      <td>Negative</td>\n",
       "    </tr>\n",
       "    <tr>\n",
       "      <th>2</th>\n",
       "      <td>fabric</td>\n",
       "      <td>Negative</td>\n",
       "    </tr>\n",
       "    <tr>\n",
       "      <th>3</th>\n",
       "      <td>fit</td>\n",
       "      <td>Negative</td>\n",
       "    </tr>\n",
       "    <tr>\n",
       "      <th>4</th>\n",
       "      <td>great</td>\n",
       "      <td>Positive</td>\n",
       "    </tr>\n",
       "    <tr>\n",
       "      <th>5</th>\n",
       "      <td>just</td>\n",
       "      <td>Negative</td>\n",
       "    </tr>\n",
       "    <tr>\n",
       "      <th>6</th>\n",
       "      <td>like</td>\n",
       "      <td>Negative</td>\n",
       "    </tr>\n",
       "    <tr>\n",
       "      <th>7</th>\n",
       "      <td>look</td>\n",
       "      <td>Negative</td>\n",
       "    </tr>\n",
       "    <tr>\n",
       "      <th>8</th>\n",
       "      <td>love</td>\n",
       "      <td>Negative</td>\n",
       "    </tr>\n",
       "    <tr>\n",
       "      <th>9</th>\n",
       "      <td>size</td>\n",
       "      <td>Negative</td>\n",
       "    </tr>\n",
       "  </tbody>\n",
       "</table>\n",
       "</div>"
      ],
      "text/plain": [
       "  Top Feature Sentiment\n",
       "0       color   Neutral\n",
       "1       dress  Negative\n",
       "2      fabric  Negative\n",
       "3         fit  Negative\n",
       "4       great  Positive\n",
       "5        just  Negative\n",
       "6        like  Negative\n",
       "7        look  Negative\n",
       "8        love  Negative\n",
       "9        size  Negative"
      ]
     },
     "execution_count": 37,
     "metadata": {},
     "output_type": "execute_result"
    }
   ],
   "source": [
    "reg_top_features"
   ]
  },
  {
   "cell_type": "markdown",
   "id": "8e7ba0d4-6496-4d86-90ea-d055e7835945",
   "metadata": {},
   "source": [
    "<center><i>Table 6. Top 10 features for Traditional ML<i></center>"
   ]
  },
  {
   "cell_type": "markdown",
   "id": "f2e13ba5-ed3e-420a-81f1-4f3979ad691a",
   "metadata": {
    "execution": {
     "iopub.execute_input": "2023-12-09T04:15:49.976406Z",
     "iopub.status.busy": "2023-12-09T04:15:49.974479Z",
     "iopub.status.idle": "2023-12-09T04:15:49.986774Z",
     "shell.execute_reply": "2023-12-09T04:15:49.984432Z",
     "shell.execute_reply.started": "2023-12-09T04:15:49.976305Z"
    },
    "tags": []
   },
   "source": [
    "<h4 style='color:#3AB85C'>Top Features from TextBlob - Naive Bayes Classifier</h4>"
   ]
  },
  {
   "cell_type": "code",
   "execution_count": 38,
   "id": "f068b38a-64d5-495f-b241-bcf2e5ad970b",
   "metadata": {
    "execution": {
     "iopub.execute_input": "2023-12-09T06:19:19.462560Z",
     "iopub.status.busy": "2023-12-09T06:19:19.461815Z",
     "iopub.status.idle": "2023-12-09T06:19:19.472074Z",
     "shell.execute_reply": "2023-12-09T06:19:19.470137Z",
     "shell.execute_reply.started": "2023-12-09T06:19:19.462496Z"
    },
    "tags": []
   },
   "outputs": [
    {
     "name": "stdout",
     "output_type": "stream",
     "text": [
      "Most Informative Features\n",
      "         contains(awful) = True                1 : 3      =     31.0 : 1.0\n",
      "      contains(horrible) = True                1 : 3      =     17.7 : 1.0\n",
      "         contains(shame) = True                1 : 3      =     17.0 : 1.0\n",
      "        contains(flimsy) = True                1 : 3      =     16.3 : 1.0\n",
      "        contains(highly) = True                3 : 1      =     15.8 : 1.0\n",
      "      contains(occasion) = True                3 : 1      =     15.7 : 1.0\n",
      "          contains(mess) = True                1 : 3      =     15.0 : 1.0\n",
      "  contains(unflattering) = True                1 : 3      =     14.6 : 1.0\n",
      "       contains(justice) = True                3 : 1      =     14.3 : 1.0\n",
      "     contains(literally) = True                1 : 3      =     14.3 : 1.0\n"
     ]
    }
   ],
   "source": [
    "tb.show_informative_features(10)"
   ]
  },
  {
   "cell_type": "markdown",
   "id": "ffd9dd65-eaf7-48c7-ab23-3ea73dd19194",
   "metadata": {},
   "source": [
    "<center><i>Fig. 7. Top 10 features for TextBlob<i></center>"
   ]
  },
  {
   "cell_type": "markdown",
   "id": "82357c5d-e811-430a-9cfe-ae6561d26bd7",
   "metadata": {},
   "source": [
    "<h3 style='color:#8E77F8'>Discussion</h3>"
   ]
  },
  {
   "cell_type": "markdown",
   "id": "80a2cf2c-f6a1-45b0-9693-52c50c054ef6",
   "metadata": {},
   "source": [
    "<h4 style='color:#3AB85C'>Recap on the Process</h4>\n",
    "\n",
    "With the traditional Machine Learning method and with TextBlob, the dataset was treated the same. In preprocessing, the rows with null `Review Text` were removed (1), the data was split into 80% trainval and 20% test sets (2), and the training data was resampled using Random Undersampling (3).\n",
    "\n",
    "For the Traditional ML methodology, the reviews text were lemmatized and vectorized using Spacy's lemmatization feature and Count Vectorizer respectively. Different classification models were used in GridSearch to find the best model, resulting to Multinomial Naive Bayes being the best model. The Multinomial Naive Bayes was used to train and test the dataset.\n",
    "\n",
    "On the other hand, TextBlob offers an easy call to their classifiers, which allows us to train and test the model to our own dataset. The Naive Bayes classifier from the library was used to train and test the dataset."
   ]
  },
  {
   "cell_type": "markdown",
   "id": "75684fb8-7c90-4073-8710-1b6e4a46fa6c",
   "metadata": {},
   "source": [
    "<h4 style='color:#3AB85C'>Results Comparison and Pros and Cons</h4>\n",
    "\n",
    "TextBlob Classifier is easily accessible and user-friendly, requiring no parameter tuning for quick deployment. However, this simplicity comes at the cost of limited visibility into tuning parameters and no direct access to individual top features when called.\n",
    "\n",
    "In contrast, Traditional ML involves a more intricate process, with multiple steps required before identifying and utilizing the best model.\n",
    "\n",
    "In both instances, the Naive Bayes model served as the basis for comparison. Renowned for its efficacy in text classification, Naive Bayes excels in multi-classification tasks, often outperforming alternative models (Ray, 2023).\n",
    "\n",
    "Utilizing Multinomial Naive Bayes from SKLearn, Traditional ML achieved a superior test accuracy compared to TextBlob's Naive Bayes Classifier. This disparity may stem from custom preprocessing steps employed independently, diverging from the constraints of the TextBlob library. Unlike TextBlob, the library lacks customization options and parameter hyper-tuning capabilities.\n",
    "\n",
    "Upon examining the top features of both methods, TextBlob predominantly yields adjectives. While these words distinctly convey sentiment, such as 'flimsy,' 'shame,' and 'unflattering' signaling negativity, they offer limited additional insights to stakeholders. The challenge lies in comprehending the underlying reasons behind the sentiment, as adjectives alone may not provide sufficient context or specific actionable points for improvement.\n",
    "\n",
    "Conversely, Traditional ML's top words encompass both adjectives and nouns. Notably, negative reviews feature terms like 'dress,' 'fit,' and 'size.' This signals a need for alterations in garment fit and size, especially for dresses. Surprisingly, positive terms like 'like' and 'love' emerge as top features for negative reviews, warranting deeper investigation into the context and nuances of such occurrences."
   ]
  },
  {
   "cell_type": "markdown",
   "id": "f99e4de8-093f-4e2e-bcf0-b6dfcf1602e8",
   "metadata": {
    "execution": {
     "iopub.execute_input": "2023-12-08T10:50:27.335318Z",
     "iopub.status.busy": "2023-12-08T10:50:27.334622Z",
     "iopub.status.idle": "2023-12-08T10:50:27.341957Z",
     "shell.execute_reply": "2023-12-08T10:50:27.340292Z",
     "shell.execute_reply.started": "2023-12-08T10:50:27.335255Z"
    },
    "tags": []
   },
   "source": [
    "<h2 style='color:#35A1F4'>Conclusion and Recommendations</h2>"
   ]
  },
  {
   "cell_type": "markdown",
   "id": "1b248b4e-8839-4536-8786-fe0c546a2bf3",
   "metadata": {},
   "source": [
    "<h3 style='color:#8E77F8'>Conclusion</h3>\n",
    "\n",
    "Although leveraging libraries like TextBlob provides convenient access to text classification methods, it comes at the cost of reduced visibility and customization compared to a bespoke model.\n",
    "\n",
    "Both models exhibit high accuracy and surpass the Proportion Chance Criterion, with Multinomial Naive Bayes achieving slightly superior accuracy compared to TextBlob.\n",
    "\n",
    "TextBlob serves as an excellent choice for rapid implementation of text classification tasks, offering simplicity and ease of use. On the other hand, a custom model is ideal for situations demanding meticulous customization and seamless integration into a workflow, particularly when specific preprocessing of the data is required."
   ]
  },
  {
   "cell_type": "markdown",
   "id": "300bef8b-1102-4af4-81a2-d5c8a2046026",
   "metadata": {},
   "source": [
    "<h3 style='color:#8E77F8'>Recommendations</h3>\n",
    "\n",
    "For individuals with a keen interest in Natural Language Processing (NLP), we highly recommend exploring and experimenting with the diverse functionalities offered by TextBlob. The versatility of TextBlob makes it an excellent tool for tasks such as sentiment analysis, part-of-speech tagging, and more.\n",
    "\n",
    "Furthermore, we suggest considering the creation of a custom text classification model for those seeking greater flexibility and control, particularly in scenarios where specific requirements need to be addressed on a case-by-case basis. Custom models allow for the implementation of various preprocessing settings and methods, providing an opportunity for optimization based on specific needs. We encourage individuals to explore and experiment with different preprocessing approaches, as this can significantly impact the performance and effectiveness of a custom NLP model."
   ]
  },
  {
   "cell_type": "markdown",
   "id": "bb519d31-06e6-4d0c-9494-d9fef5d551cf",
   "metadata": {},
   "source": [
    "<h2 style='color:#35A1F4'>References</h2>"
   ]
  },
  {
   "cell_type": "markdown",
   "id": "07b6b16f-1a27-401c-b327-a5f70f67234e",
   "metadata": {},
   "source": [
    "Loria, S. (2013). TextBlob Documentation. TextBlob. Retrieved December 9, 2023 from https://textblob.readthedocs.io/en/dev/index.html\n",
    "\n",
    "Nicapotato. (2017). Women's E-Commerce Clothing Reviews. Retrieved December 9, 2023 from https://www.kaggle.com/datasets/nicapotato/womens-ecommerce-clothing-reviews\n",
    "\n",
    "Ray, S. (2023, December 1). Naive Bayes Classifier Explained: Applications and Practice Problems of Naive Bayes Classifier. Analytics Vidhya. Retrieved December 9, 2023 from https://www.analyticsvidhya.com/blog/2017/09/naive-bayes-explained/"
   ]
  },
  {
   "cell_type": "markdown",
   "id": "ed02a711-05f1-4184-8f1c-08613d0e6235",
   "metadata": {},
   "source": [
    "Note: ChatGPT was used to generate code, and paraphrase the thoughts of the author."
   ]
  }
 ],
 "metadata": {
  "kernelspec": {
   "display_name": "Python 3 (ipykernel)",
   "language": "python",
   "name": "python3"
  },
  "language_info": {
   "codemirror_mode": {
    "name": "ipython",
    "version": 3
   },
   "file_extension": ".py",
   "mimetype": "text/x-python",
   "name": "python",
   "nbconvert_exporter": "python",
   "pygments_lexer": "ipython3",
   "version": "3.10.12"
  }
 },
 "nbformat": 4,
 "nbformat_minor": 5
}
